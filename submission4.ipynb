{
 "cells": [
  {
   "cell_type": "code",
   "execution_count": 1,
   "metadata": {},
   "outputs": [],
   "source": [
    "import matplotlib.pyplot as plt\n",
    "import seaborn as sns\n",
    "sns.set_style(\"whitegrid\")\n",
    "\n",
    "import pandas as pd\n",
    "import numpy as np\n",
    "\n",
    "from sklearn import datasets\n",
    "\n",
    "from sklearn.ensemble import RandomForestRegressor\n",
    "from sklearn.linear_model import LinearRegression, SGDRegressor\n",
    "\n",
    "from sklearn.model_selection import RepeatedKFold\n",
    "from sklearn.model_selection import cross_val_score\n",
    "from sklearn.model_selection import GridSearchCV\n",
    "\n",
    "from sklearn.metrics import accuracy_score, precision_score, recall_score\n",
    "from prettytable import PrettyTable\n",
    "\n",
    "from sklearn.preprocessing import OrdinalEncoder, OneHotEncoder\n",
    "import category_encoders"
   ]
  },
  {
   "cell_type": "code",
   "execution_count": 2,
   "metadata": {},
   "outputs": [],
   "source": [
    "def loadData(directory):\n",
    "    df = pd.read_csv(directory,sep=\"\\t\")\n",
    "    return df\n",
    "\n",
    "X_dev = loadData('Dataset/dev.tsv')\n",
    "X_eval = loadData('Dataset/eval.tsv')\n",
    "\n",
    "#X_dev['length_description'] = X_dev['description'].apply(lambda x : len(x))\n",
    "#X_dev = X_dev.drop_duplicates()\n",
    "#X_eval['length_description'] = X_eval['description'].apply(lambda x : len(x))\n",
    "\n",
    "X_dev = X_dev.drop(columns=['description','region_2'])\n",
    "X_eval = X_eval.drop(columns=['description','region_2'])"
   ]
  },
  {
   "cell_type": "code",
   "execution_count": 3,
   "metadata": {},
   "outputs": [],
   "source": [
    "## BinatyEncoding\n",
    "def doPreprocV1(X_d,X_e,labels):\n",
    "    \n",
    "        \n",
    "    df = pd.concat([X_d,X_e])\n",
    "\n",
    "    encoder = category_encoders.BinaryEncoder(cols=labels)\n",
    "    df = encoder.fit_transform(df)\n",
    "    \n",
    "    ev = df[df['quality'].isna()].drop(columns=['quality'])\n",
    "    dev = df.dropna(subset=['quality'])\n",
    "\n",
    "    return dev, ev\n",
    "\n",
    "## BinatyEncoding + PCA\n",
    "def doPreprocV2(X_d,X_e,labels):\n",
    "        \n",
    "    df = pd.concat([X_d,X_e])\n",
    "\n",
    "    encoder = category_encoders.BinaryEncoder(cols=labels)\n",
    "    df = encoder.fit_transform(df)\n",
    "    \n",
    "    pca = pca(n_components = 0.95)\n",
    "    df_reduced = pca.fit_transform(df)\n",
    "    \n",
    "    \n",
    "    ev = df_reduced[df_reduced['quality'].isna()].drop(columns=['quality'])\n",
    "    dev = df_reduced.dropna(subset=['quality'])\n",
    "\n",
    "    return dev, ev"
   ]
  },
  {
   "cell_type": "code",
   "execution_count": null,
   "metadata": {},
   "outputs": [],
   "source": [
    "\"\"\"\n",
    " for label in labels:\n",
    "        top_labels = Counter(X[label]).most_common()[:int(len(Counter(X[label]).most_common())*80/100)]\n",
    "        top_labels = [elem[0] for elem in top_labels]\n",
    "        \n",
    "        X[label] = X.apply(lambda x : hash(x[label]) if x[label] in top_labels else hash(0),axis=1)\n",
    "    return X\n",
    "\"\"\""
   ]
  },
  {
   "cell_type": "code",
   "execution_count": 5,
   "metadata": {},
   "outputs": [],
   "source": [
    "X_prep_v1, X_eval_v1 = doPreprocV1(X_dev,X_eval,['country','province','variety',\n",
    "                                                  'winery','region_1','designation'])\n",
    "y1 = X_prep_v1.quality\n",
    "X1 = X_prep_v1.drop(columns=['quality'])"
   ]
  },
  {
   "cell_type": "code",
   "execution_count": 17,
   "metadata": {},
   "outputs": [
    {
     "data": {
      "text/plain": [
       "120744"
      ]
     },
     "execution_count": 17,
     "metadata": {},
     "output_type": "execute_result"
    }
   ],
   "source": [
    "len(X_prep_v1)"
   ]
  },
  {
   "cell_type": "code",
   "execution_count": null,
   "metadata": {},
   "outputs": [],
   "source": [
    "X_prep_v2, X_eval_v2 = doPreprocV2(X_dev,X_eval,['country','province','variety',\n",
    "                                                  'winery','region_1','designation'])\n",
    "y2 = X_prep_v2.quality\n",
    "X2 = X_prep_v2.drop(columns=['quality'])"
   ]
  },
  {
   "cell_type": "code",
   "execution_count": 70,
   "metadata": {},
   "outputs": [
    {
     "data": {
      "text/plain": [
       "(85028,)"
      ]
     },
     "execution_count": 70,
     "metadata": {},
     "output_type": "execute_result"
    }
   ],
   "source": [
    "y1.shape"
   ]
  },
  {
   "cell_type": "markdown",
   "metadata": {},
   "source": [
    "### Preprocessing"
   ]
  },
  {
   "cell_type": "code",
   "execution_count": 3,
   "metadata": {},
   "outputs": [],
   "source": [
    "# encode with average"
   ]
  },
  {
   "cell_type": "markdown",
   "metadata": {},
   "source": [
    "## Model selection\n",
    "\\# -- specificare la misura di riferimento (accuracy o altro) <br /><br />\n",
    "In order to tune the best models, we tested #tot different classifiers with their default hyperparameters through the Repeated K-Fold Cross Validation. This gives a more “robust” model assessment score rather than the fairly well known K-Fold Cross Validation, because it run several times. In this case we used 5 folds and 10 ierations. The algorithms that we tested are: \n",
    "- **\n",
    "- **\n",
    "\n",
    "The output of the the Cross Validation phase can be clearly seen in Figure # . So we decided to tune the \\\\ and the \\\\ classifiers trough the Grid Search, as explained in the next section. "
   ]
  },
  {
   "cell_type": "code",
   "execution_count": 7,
   "metadata": {},
   "outputs": [],
   "source": [
    "from sklearn.preprocessing import PolynomialFeatures\n",
    "from sklearn.pipeline import make_pipeline\n",
    "\n",
    "randomforest = RandomForestRegressor()\n",
    "linearregression = LinearRegression()\n",
    "sgd = SGDRegressor()\n",
    "\n",
    "#polynomialregression = make_pipeline(PolynomialFeatures(10), LinearRegression())\n",
    "#polynomialregression.fit(X, y)\n",
    "\n",
    "\n",
    "models = [randomforest]\n",
    "targets = [\"RandomForest\"]"
   ]
  },
  {
   "cell_type": "code",
   "execution_count": 8,
   "metadata": {},
   "outputs": [],
   "source": [
    "def evaluateModels(models, targets,X,y):\n",
    "    \n",
    "    scores = pd.DataFrame()\n",
    "    \n",
    "    for model,target in zip(models,targets):\n",
    "        cv = RepeatedKFold(n_splits=5, n_repeats=1, random_state=42)\n",
    "        scores[target] = cross_val_score(model, X, y, scoring='r2', cv=cv, n_jobs=-1)\n",
    "        \n",
    "    return scores"
   ]
  },
  {
   "cell_type": "code",
   "execution_count": 84,
   "metadata": {
    "scrolled": true
   },
   "outputs": [
    {
     "data": {
      "text/plain": [
       "Text(0, 0.5, 'R2_Score')"
      ]
     },
     "execution_count": 84,
     "metadata": {},
     "output_type": "execute_result"
    },
    {
     "data": {
      "image/png": "[encoded data removed]",
      "text/plain": [
       "<Figure size 432x288 with 1 Axes>"
      ]
     },
     "metadata": {},
     "output_type": "display_data"
    }
   ],
   "source": [
    "## V1 without duplicayes\n",
    "scores = evaluateModels(models,targets,X1,y1)\n",
    "sns.boxplot(x=\"variable\", y=\"value\", data=pd.melt(scores))\n",
    "plt.xlabel(\"Model\")\n",
    "plt.ylabel(\"R2_Score\")"
   ]
  },
  {
   "cell_type": "code",
   "execution_count": 9,
   "metadata": {},
   "outputs": [
    {
     "data": {
      "text/plain": [
       "Text(0, 0.5, 'R2_Score')"
      ]
     },
     "execution_count": 9,
     "metadata": {},
     "output_type": "execute_result"
    },
    {
     "data": {
      "image/png": "[encoded data removed]",
      "text/plain": [
       "<Figure size 432x288 with 1 Axes>"
      ]
     },
     "metadata": {},
     "output_type": "display_data"
    }
   ],
   "source": [
    "## V1 w/ duplicates\n",
    "scores = evaluateModels(models,targets,X1,y1)\n",
    "sns.boxplot(x=\"variable\", y=\"value\", data=pd.melt(scores))\n",
    "plt.xlabel(\"Model\")\n",
    "plt.ylabel(\"R2_Score\")"
   ]
  },
  {
   "cell_type": "code",
   "execution_count": null,
   "metadata": {},
   "outputs": [],
   "source": [
    "## V2\n",
    "scores = evaluateModels(models,targets,X2,y2)\n",
    "sns.boxplot(x=\"variable\", y=\"value\", data=pd.melt(scores))\n",
    "plt.xlabel(\"Model\")\n",
    "plt.ylabel(\"R2_Score\")"
   ]
  },
  {
   "cell_type": "markdown",
   "metadata": {},
   "source": [
    "## Hyperparameter tuning\n",
    "In order to improve the performances of the selected models we used the GridSearchCV that performs a Cross Validation over all the combinations of a given set of hyperparameters. Since we had enough data, we used the hold out technique, so we considered 80% for the train data and the remaining 20% for the testing the models. \n",
    "\n",
    "## Results\n",
    "The results of the hyperparameters tuning can be seen in Table ##. Apparently they all outperformed their naive solutions and \\[brodo\\] "
   ]
  },
  {
   "cell_type": "code",
   "execution_count": 10,
   "metadata": {},
   "outputs": [],
   "source": [
    "def doGridSearch(model,model_name,hyperparams,X,y):\n",
    "    gs = GridSearchCV(estimator=model,  \n",
    "                         param_grid=hyperparams,\n",
    "                         scoring='r2',\n",
    "                         cv=4,\n",
    "                         n_jobs=6,\n",
    "                         verbose=True)\n",
    "\n",
    "    gs.fit(X, y)\n",
    "    return gs"
   ]
  },
  {
   "cell_type": "code",
   "execution_count": 11,
   "metadata": {},
   "outputs": [],
   "source": [
    "hyperparams_RF = {\n",
    "    \"n_estimators\": [500],\n",
    "    #\"criterion\": [\"mse\", \"mae\"],\n",
    "    \"max_features\": [\"auto\", \"sqrt\", \"log2\"],\n",
    "    \"random_state\": [42],# always use the samet random seed\n",
    "    \"n_jobs\": [-1],# for parallelization\n",
    "}"
   ]
  },
  {
   "cell_type": "code",
   "execution_count": 12,
   "metadata": {},
   "outputs": [
    {
     "name": "stdout",
     "output_type": "stream",
     "text": [
      "Fitting 4 folds for each of 3 candidates, totalling 12 fits\n"
     ]
    },
    {
     "name": "stderr",
     "output_type": "stream",
     "text": [
      "[Parallel(n_jobs=6)]: Using backend LokyBackend with 6 concurrent workers.\n",
      "[Parallel(n_jobs=6)]: Done  12 out of  12 | elapsed: 10.8min finished\n",
      "[Parallel(n_jobs=-1)]: Using backend ThreadingBackend with 8 concurrent workers.\n",
      "[Parallel(n_jobs=-1)]: Done  34 tasks      | elapsed:   11.7s\n",
      "[Parallel(n_jobs=-1)]: Done 184 tasks      | elapsed:   54.6s\n",
      "[Parallel(n_jobs=-1)]: Done 434 tasks      | elapsed:  2.1min\n",
      "[Parallel(n_jobs=-1)]: Done 500 out of 500 | elapsed:  2.5min finished\n"
     ]
    }
   ],
   "source": [
    "gs = doGridSearch(RandomForestRegressor(verbose=True), \"RandomForestRegressor\",hyperparams_RF,X1,y1)"
   ]
  },
  {
   "cell_type": "code",
   "execution_count": 13,
   "metadata": {},
   "outputs": [
    {
     "name": "stdout",
     "output_type": "stream",
     "text": [
      "Best params:\t{'max_features': 'auto', 'n_estimators': 500, 'n_jobs': -1, 'random_state': 42}\n",
      "Best score:\t0.7827303010425452\n"
     ]
    }
   ],
   "source": [
    "print(f\"Best params:\\t{gs.best_params_}\")\n",
    "print(f\"Best score:\\t{gs.best_score_}\")"
   ]
  },
  {
   "cell_type": "markdown",
   "metadata": {},
   "source": [
    "## Deploy"
   ]
  },
  {
   "cell_type": "code",
   "execution_count": 14,
   "metadata": {},
   "outputs": [
    {
     "name": "stderr",
     "output_type": "stream",
     "text": [
      "[Parallel(n_jobs=8)]: Using backend ThreadingBackend with 8 concurrent workers.\n",
      "[Parallel(n_jobs=8)]: Done  34 tasks      | elapsed:    0.0s\n",
      "[Parallel(n_jobs=8)]: Done 184 tasks      | elapsed:    0.4s\n",
      "[Parallel(n_jobs=8)]: Done 434 tasks      | elapsed:    1.1s\n",
      "[Parallel(n_jobs=8)]: Done 500 out of 500 | elapsed:    1.3s finished\n"
     ]
    }
   ],
   "source": [
    "y_pred = gs.predict(X_eval_v1)"
   ]
  },
  {
   "cell_type": "code",
   "execution_count": 15,
   "metadata": {},
   "outputs": [],
   "source": [
    "def get_csv(ids, y):\n",
    "    pd.DataFrame(dict(Id = ids,Predicted = y)).to_csv(\"submission4.csv\",sep=\",\",index=False)"
   ]
  },
  {
   "cell_type": "code",
   "execution_count": 16,
   "metadata": {},
   "outputs": [],
   "source": [
    "get_csv(list(X_eval.index),y_pred)"
   ]
  },
  {
   "cell_type": "markdown",
   "metadata": {},
   "source": [
    "## Deploy history\n",
    "\n",
    "### Submission 1 : 0.756 | 2021-01-11 16:24:05.639162 \t\n",
    "* without duplicates\n",
    "* Preprocessing: hash <br />\n",
    "* Model : Random Forest <br />\n",
    "* Hyperparams: {'max_features': 'sqrt', 'n_estimators': 500, 'n_jobs': -1, 'random_state': 42} <br />\n",
    "* features : country,province,region_1, variety, winery, length_description <br />\n",
    "\n",
    "### Submission 2 : 0.807 | 2021-01-12 08:14:14.977122\t\n",
    "* without duplicates\n",
    "* Preprocessing: hash <br />\n",
    "* Model : Random Forest <br />\n",
    "* Hyperparams: {'max_features': 'auto', 'n_estimators': 500, 'n_jobs': -1, 'random_state': 42}\n",
    "* features : country,province,region_1, variety, winery, designation <br />\n",
    "\n",
    "### Submission 3 : 0.822 | 2021-01-12 08:56:40.440284\n",
    "* without duplicates\n",
    "* Preprocessing: BinaryEncoding <br />\n",
    "* Model : Random Forest <br />\n",
    "* Hyperparams: {'max_features': 'auto', 'n_estimators': 500, 'n_jobs': -1, 'random_state': 42}\n",
    "* features : country,province,region_1, variety, winery, designation <br />\n",
    "\n",
    "### Submission 4 : 0.823 | 2021-01-12 14:42:33.311053\n",
    "* with duplicates -> we can drop them\n",
    "* same as Submission 3"
   ]
  },
  {
   "cell_type": "markdown",
   "metadata": {},
   "source": [
    "## //Test"
   ]
  },
  {
   "cell_type": "code",
   "execution_count": 22,
   "metadata": {},
   "outputs": [],
   "source": [
    "from collections import Counter\n",
    "a = Counter(X_dev['country']).most_common()"
   ]
  },
  {
   "cell_type": "code",
   "execution_count": 40,
   "metadata": {},
   "outputs": [],
   "source": [
    "df = pd.DataFrame({\n",
    "    'color':[\"a\", \"c\", \"a\", \"a\", \"b\", \"b\"], \n",
    "    'outcome':[1, 2, 0, 0, 0, 1]})\n"
   ]
  },
  {
   "cell_type": "code",
   "execution_count": null,
   "metadata": {},
   "outputs": [],
   "source": []
  }
 ],
 "metadata": {
  "kernelspec": {
   "display_name": "Python 3",
   "language": "python",
   "name": "python3"
  },
  "language_info": {
   "codemirror_mode": {
    "name": "ipython",
    "version": 3
   },
   "file_extension": ".py",
   "mimetype": "text/x-python",
   "name": "python",
   "nbconvert_exporter": "python",
   "pygments_lexer": "ipython3",
   "version": "3.8.3"
  }
 },
 "nbformat": 4,
 "nbformat_minor": 4
}
