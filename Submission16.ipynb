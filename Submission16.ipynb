{
 "cells": [
  {
   "cell_type": "markdown",
   "metadata": {},
   "source": [
    "## Import and Loading"
   ]
  },
  {
   "cell_type": "code",
   "execution_count": 3,
   "metadata": {},
   "outputs": [],
   "source": [
    "import matplotlib.pyplot as plt\n",
    "import seaborn as sns\n",
    "sns.set_style(\"whitegrid\")\n",
    "\n",
    "import pandas as pd\n",
    "import numpy as np\n",
    "\n",
    "from sklearn import datasets\n",
    "\n",
    "from sklearn.ensemble import RandomForestRegressor\n",
    "from sklearn.linear_model import LinearRegression, SGDRegressor\n",
    "\n",
    "from sklearn.model_selection import RepeatedKFold\n",
    "from sklearn.model_selection import cross_val_score\n",
    "from sklearn.model_selection import GridSearchCV\n",
    "\n",
    "from sklearn.preprocessing import LabelEncoder, StandardScaler\n",
    "\n",
    "import category_encoders\n",
    "import scipy\n",
    "import time"
   ]
  },
  {
   "cell_type": "code",
   "execution_count": 31,
   "metadata": {},
   "outputs": [],
   "source": [
    "def loadData(directory):\n",
    "    df = pd.read_csv(directory,sep=\"\\t\")\n",
    "    return df\n",
    "\n",
    "def preprocessingV4(X_d,X_e,labels):\n",
    "    \n",
    "    X_d = X_d.fillna(\"other\")\n",
    "    X_e = X_e.fillna(\"other\")\n",
    "    \n",
    "    df = pd.concat([X_d,X_e])\n",
    "    df_enc = pd.get_dummies(df)\n",
    "    df_enc_scipy = scipy.sparse.csr_matrix(df_enc.values)\n",
    "    \n",
    "    return df_enc_scipy[:X_d.shape[0]],df_enc_scipy[X_d.shape[0]:]\n",
    "\n",
    "\n",
    "def preprocessingV5(X_d,X_e,labels):\n",
    "    \n",
    "    X_d = X_d.fillna(\"other\")\n",
    "    X_e = X_e.fillna(\"other\")\n",
    "    \n",
    "    df = pd.concat([X_d,X_e])\n",
    "    \n",
    "    for label in labels:\n",
    "        \n",
    "        top_labels_index = df[label].value_counts().index\n",
    "        top_labels_length = len(df[label].value_counts().index)\n",
    "        thresh = round(top_labels_length * 50 / 100)\n",
    "        ##100\n",
    "        thresh = top_labels_length\n",
    "        \n",
    "        top = df[label].isin(top_labels_index[:thresh])\n",
    "        df.loc[~top, label] = \"other\"\n",
    "    \n",
    "    df_enc = scipy.sparse.csr_matrix(pd.get_dummies(df).values)\n",
    "    \n",
    "    return df_enc[:X_d.shape[0]],df_enc[X_d.shape[0]:]\n",
    "\n",
    "\n",
    "def evaluateModels(models, targets,X,y):\n",
    "    \n",
    "    scores = pd.DataFrame()\n",
    "    \n",
    "    for model,target in zip(models,targets):\n",
    "        cv = RepeatedKFold(n_splits=3, n_repeats=1, random_state=42)\n",
    "        scores[target] = cross_val_score(model, X, y, scoring='r2', cv=cv, n_jobs=-1)\n",
    "        \n",
    "        print(f\"{target} has been concluded\")\n",
    "        \n",
    "    return scores"
   ]
  },
  {
   "cell_type": "code",
   "execution_count": 5,
   "metadata": {},
   "outputs": [],
   "source": [
    "X_dev = loadData('Dataset/dev.tsv')\n",
    "X_eval = loadData('Dataset/eval.tsv')"
   ]
  },
  {
   "cell_type": "code",
   "execution_count": 89,
   "metadata": {},
   "outputs": [
    {
     "data": {
      "text/plain": [
       "Index(['Reserve', 'Reserva', 'Estate', 'Barrel sample', 'Riserva'], dtype='object')"
      ]
     },
     "execution_count": 89,
     "metadata": {},
     "output_type": "execute_result"
    }
   ],
   "source": [
    "X_dev[\"designation\"].value_counts().index[:5]"
   ]
  },
  {
   "cell_type": "markdown",
   "metadata": {},
   "source": [
    "## Preprocessing with filters and partial encoding"
   ]
  },
  {
   "cell_type": "code",
   "execution_count": 24,
   "metadata": {},
   "outputs": [
    {
     "name": "stdout",
     "output_type": "stream",
     "text": [
      "Wall time: 18min 20s\n"
     ]
    },
    {
     "data": {
      "text/plain": [
       "Text(0, 0.5, 'R2_Score')"
      ]
     },
     "execution_count": 24,
     "metadata": {},
     "output_type": "execute_result"
    },
    {
     "data": {
      "image/png": "[encoded data removed]",
      "text/plain": [
       "<Figure size 360x360 with 1 Axes>"
      ]
     },
     "metadata": {},
     "output_type": "display_data"
    }
   ],
   "source": [
    "%%time\n",
    "\n",
    "X_dev = loadData('Dataset/dev.tsv')\n",
    "X_eval = loadData('Dataset/eval.tsv')\n",
    "min_thresh = 0\n",
    "max_thresh = 100\n",
    "\n",
    "\n",
    "X_dev_filtered = X_dev[ X_dev[\"quality\"] >= min_thresh]\n",
    "X_dev_filtered = X_dev_filtered[ X_dev_filtered[\"quality\"] <= max_thresh]\n",
    "\n",
    "X_dev_filtered = X_dev_filtered.drop(columns=['description','region_2','designation'])\n",
    "X_eval = X_eval.drop(columns=['description','region_2','designation'])\n",
    "\n",
    "y = X_dev_filtered.quality\n",
    "X_dev_filtered = X_dev_filtered.drop(columns=[\"quality\"])\n",
    "\n",
    "features_to_encode = ['country','province','variety','winery','region_1']\n",
    "t = [17,80,80,100,60]\n",
    "X_dev_prep, X_eval_prep = preprocessingV4(X_dev_filtered,X_eval,features_to_encode,t)\n",
    "\n",
    "\n",
    "from sklearn.linear_model import LinearRegression, Ridge, ElasticNet\n",
    "\n",
    "fig, ax = plt.subplots(figsize=(5, 5))\n",
    "models = [LinearRegression(),RandomForestRegressor(),SGDRegressor()]\n",
    "targets = [\"LinearRegression\",\"RandomForest\",\"SGDRegressor\"]\n",
    "\n",
    "scores = evaluateModels(models,targets,X_dev_prep,y)\n",
    "sns.boxplot(x=\"variable\", y=\"value\", data=pd.melt(scores), ax=ax)\n",
    "plt.xlabel(\"Model\")\n",
    "plt.ylabel(\"R2_Score\")\n",
    "###########################################################\n",
    "## 0/100 con duplicati - tutti gli elementi codificati\n",
    "## senza designation\n",
    "###########################################################"
   ]
  },
  {
   "cell_type": "code",
   "execution_count": 27,
   "metadata": {},
   "outputs": [
    {
     "name": "stdout",
     "output_type": "stream",
     "text": [
      "f{model} has been concluded\n",
      "f{model} has been concluded\n",
      "f{model} has been concluded\n",
      "Wall time: 17min 32s\n"
     ]
    },
    {
     "data": {
      "text/plain": [
       "Text(0, 0.5, 'R2_Score')"
      ]
     },
     "execution_count": 27,
     "metadata": {},
     "output_type": "execute_result"
    },
    {
     "data": {
      "image/png": "[encoded data removed]",
      "text/plain": [
       "<Figure size 360x360 with 1 Axes>"
      ]
     },
     "metadata": {},
     "output_type": "display_data"
    }
   ],
   "source": [
    "%%time\n",
    "from sklearn.linear_model import LinearRegression, Ridge, ElasticNet\n",
    "\n",
    "X_dev = loadData('Dataset/dev.tsv')\n",
    "X_eval = loadData('Dataset/eval.tsv')\n",
    "\n",
    "min_thresh = X_dev[\"quality\"].quantile(0.025)\n",
    "max_thresh = X_dev[\"quality\"].quantile(0.975)\n",
    "#min_thresh = 0\n",
    "#max_thresh = 100\n",
    "\n",
    "\n",
    "X_dev_filtered = X_dev[ X_dev[\"quality\"] >= min_thresh]\n",
    "X_dev_filtered = X_dev_filtered[ X_dev_filtered[\"quality\"] <= max_thresh]\n",
    "X_dev_filtered = X_dev_filtered.drop(columns=['description','region_2','designation'])\n",
    "X_eval = X_eval.drop(columns=['description','region_2','designation'])\n",
    "\n",
    "y = X_dev_filtered.quality\n",
    "X_dev_filtered = X_dev_filtered.drop(columns=[\"quality\"])\n",
    "\n",
    "features_to_encode = ['country','province','variety','winery','region_1']\n",
    "#t = [17,80,80,100,60]\n",
    "X_dev_prep, X_eval_prep = preprocessingV4(X_dev_filtered,X_eval,features_to_encode,t)\n",
    "\n",
    "fig, ax = plt.subplots(figsize=(5, 5))\n",
    "models = [LinearRegression(),RandomForestRegressor(),SGDRegressor()]\n",
    "targets = [\"LinearRegression\",\"RandomForest\",\"SGDRegressor\"]\n",
    "\n",
    "scores = evaluateModels(models,targets,X_dev_prep,y)\n",
    "sns.boxplot(x=\"variable\", y=\"value\", data=pd.melt(scores), ax=ax)\n",
    "plt.xlabel(\"Model\")\n",
    "plt.ylabel(\"R2_Score\")\n",
    "###################################################################\n",
    "## 2.5th Q / 97.5th Q con duplicati - tutti gli elementi codificati\n",
    "## senza designation\n",
    "###################################################################"
   ]
  },
  {
   "cell_type": "code",
   "execution_count": 30,
   "metadata": {},
   "outputs": [
    {
     "name": "stdout",
     "output_type": "stream",
     "text": [
      "LinearRegression() has been concluded\n",
      "RandomForestRegressor() has been concluded\n",
      "SGDRegressor() has been concluded\n",
      "Wall time: 22min 24s\n"
     ]
    },
    {
     "data": {
      "text/plain": [
       "Text(0, 0.5, 'R2_Score')"
      ]
     },
     "execution_count": 30,
     "metadata": {},
     "output_type": "execute_result"
    },
    {
     "data": {
      "image/png": "[encoded data removed]",
      "text/plain": [
       "<Figure size 360x360 with 1 Axes>"
      ]
     },
     "metadata": {},
     "output_type": "display_data"
    }
   ],
   "source": [
    "%%time\n",
    "from sklearn.linear_model import LinearRegression, Ridge, ElasticNet\n",
    "\n",
    "X_dev = loadData('Dataset/dev.tsv')\n",
    "X_eval = loadData('Dataset/eval.tsv')\n",
    "\n",
    "min_thresh = 20\n",
    "max_thresh = 80\n",
    "\n",
    "X_dev_filtered = X_dev[ X_dev[\"quality\"] >= min_thresh]\n",
    "X_dev_filtered = X_dev_filtered[ X_dev_filtered[\"quality\"] <= max_thresh]\n",
    "X_dev_filtered = X_dev_filtered.drop(columns=['description','region_2','designation'])\n",
    "X_eval = X_eval.drop(columns=['description','region_2','designation'])\n",
    "\n",
    "y = X_dev_filtered.quality\n",
    "X_dev_filtered = X_dev_filtered.drop(columns=[\"quality\"])\n",
    "\n",
    "features_to_encode = ['country','province','variety','winery','region_1']\n",
    "#t = [17,80,80,100,60]\n",
    "X_dev_prep, X_eval_prep = preprocessingV4(X_dev_filtered,X_eval,features_to_encode,t)\n",
    "\n",
    "fig, ax = plt.subplots(figsize=(5, 5))\n",
    "models = [LinearRegression(),RandomForestRegressor(),SGDRegressor()]\n",
    "targets = [\"LinearRegression\",\"RandomForest\",\"SGDRegressor\"]\n",
    "\n",
    "scores = evaluateModels(models,targets,X_dev_prep,y)\n",
    "sns.boxplot(x=\"variable\", y=\"value\", data=pd.melt(scores), ax=ax)\n",
    "plt.xlabel(\"Model\")\n",
    "plt.ylabel(\"R2_Score\")\n",
    "###################################################################\n",
    "## 20/80 Q con duplicati - tutti gli elementi codificati\n",
    "## senza designation\n",
    "###################################################################"
   ]
  },
  {
   "cell_type": "code",
   "execution_count": 32,
   "metadata": {},
   "outputs": [
    {
     "name": "stdout",
     "output_type": "stream",
     "text": [
      "LinearRegression has been concluded\n",
      "RandomForest has been concluded\n",
      "SGDRegressor has been concluded\n",
      "Wall time: 17min 47s\n"
     ]
    },
    {
     "data": {
      "text/plain": [
       "Text(0, 0.5, 'R2_Score')"
      ]
     },
     "execution_count": 32,
     "metadata": {},
     "output_type": "execute_result"
    },
    {
     "data": {
      "image/png": "[encoded data removed]",
      "text/plain": [
       "<Figure size 360x360 with 1 Axes>"
      ]
     },
     "metadata": {},
     "output_type": "display_data"
    }
   ],
   "source": [
    "%%time\n",
    "from sklearn.linear_model import LinearRegression, Ridge, ElasticNet\n",
    "\n",
    "X_dev = loadData('Dataset/dev.tsv')\n",
    "X_eval = loadData('Dataset/eval.tsv')\n",
    "\n",
    "min_thresh = 20\n",
    "max_thresh = 80\n",
    "\n",
    "X_dev_filtered = X_dev[ X_dev[\"quality\"] >= min_thresh]\n",
    "X_dev_filtered = X_dev_filtered[ X_dev_filtered[\"quality\"] <= max_thresh]\n",
    "X_dev_filtered = X_dev_filtered.drop(columns=['country','description','region_2','designation'])\n",
    "X_eval = X_eval.drop(columns=['country','description','region_2','designation'])\n",
    "\n",
    "y = X_dev_filtered.quality\n",
    "X_dev_filtered = X_dev_filtered.drop(columns=[\"quality\"])\n",
    "\n",
    "features_to_encode = ['province','variety','winery','region_1']\n",
    "#t = [17,80,80,100,60]\n",
    "X_dev_prep, X_eval_prep = preprocessingV4(X_dev_filtered,X_eval,features_to_encode,t)\n",
    "\n",
    "fig, ax = plt.subplots(figsize=(5, 5))\n",
    "models = [LinearRegression(),RandomForestRegressor(),SGDRegressor()]\n",
    "targets = [\"LinearRegression\",\"RandomForest\",\"SGDRegressor\"]\n",
    "\n",
    "scores = evaluateModels(models,targets,X_dev_prep,y)\n",
    "sns.boxplot(x=\"variable\", y=\"value\", data=pd.melt(scores), ax=ax)\n",
    "plt.xlabel(\"Model\")\n",
    "plt.ylabel(\"R2_Score\")\n",
    "###################################################################\n",
    "## 20/80 Q con duplicati - tutti gli elementi codificati\n",
    "## senza designation e country\n",
    "###################################################################"
   ]
  },
  {
   "cell_type": "code",
   "execution_count": 35,
   "metadata": {},
   "outputs": [
    {
     "name": "stdout",
     "output_type": "stream",
     "text": [
      "LinearRegression has been concluded\n",
      "RandomForest has been concluded\n",
      "SGDRegressor has been concluded\n",
      "Wall time: 17min 21s\n"
     ]
    },
    {
     "data": {
      "text/plain": [
       "Text(0, 0.5, 'R2_Score')"
      ]
     },
     "execution_count": 35,
     "metadata": {},
     "output_type": "execute_result"
    },
    {
     "data": {
      "image/png": "[encoded data removed]",
      "text/plain": [
       "<Figure size 360x360 with 1 Axes>"
      ]
     },
     "metadata": {},
     "output_type": "display_data"
    }
   ],
   "source": [
    "%%time\n",
    "from sklearn.linear_model import LinearRegression, Ridge, ElasticNet\n",
    "\n",
    "X_dev = loadData('Dataset/dev.tsv')\n",
    "X_eval = loadData('Dataset/eval.tsv')\n",
    "\n",
    "min_thresh = 0\n",
    "max_thresh = 100\n",
    "\n",
    "X_dev_filtered = X_dev[ X_dev[\"quality\"] >= min_thresh]\n",
    "X_dev_filtered = X_dev_filtered[ X_dev_filtered[\"quality\"] <= max_thresh]\n",
    "X_dev_filtered = X_dev_filtered.drop(columns=['description','region_2','designation'])\n",
    "X_eval = X_eval.drop(columns=['description','region_2','designation'])\n",
    "\n",
    "y = X_dev_filtered.quality\n",
    "X_dev_filtered = X_dev_filtered.drop(columns=[\"quality\"])\n",
    "\n",
    "features_to_encode = ['province','variety','winery','region_1','country']\n",
    "#t = [17,80,80,100,60]\n",
    "X_dev_prep, X_eval_prep = preprocessingV4(X_dev_filtered,X_eval,features_to_encode,t)\n",
    "\n",
    "fig, ax = plt.subplots(figsize=(5, 5))\n",
    "models = [LinearRegression(),RandomForestRegressor(),SGDRegressor()]\n",
    "targets = [\"LinearRegression\",\"RandomForest\",\"SGDRegressor\"]\n",
    "\n",
    "scores = evaluateModels(models,targets,X_dev_prep,y)\n",
    "sns.boxplot(x=\"variable\", y=\"value\", data=pd.melt(scores), ax=ax)\n",
    "plt.xlabel(\"Model\")\n",
    "plt.ylabel(\"R2_Score\")\n",
    "###################################################################\n",
    "## 0/100 Q con duplicati - tutti gli elementi codificati\n",
    "## -- senza designation\n",
    "###################################################################"
   ]
  },
  {
   "cell_type": "code",
   "execution_count": 36,
   "metadata": {},
   "outputs": [
    {
     "name": "stdout",
     "output_type": "stream",
     "text": [
      "LinearRegression has been concluded\n",
      "RandomForest has been concluded\n",
      "SGDRegressor has been concluded\n",
      "Wall time: 15min 36s\n"
     ]
    },
    {
     "data": {
      "text/plain": [
       "Text(0, 0.5, 'R2_Score')"
      ]
     },
     "execution_count": 36,
     "metadata": {},
     "output_type": "execute_result"
    },
    {
     "data": {
      "image/png": "[encoded data removed]",
      "text/plain": [
       "<Figure size 360x360 with 1 Axes>"
      ]
     },
     "metadata": {},
     "output_type": "display_data"
    }
   ],
   "source": [
    "%%time\n",
    "from sklearn.linear_model import LinearRegression, Ridge, ElasticNet\n",
    "\n",
    "X_dev = loadData('Dataset/dev.tsv')\n",
    "X_dev = X_dev.drop_duplicates()\n",
    "X_eval = loadData('Dataset/eval.tsv')\n",
    "\n",
    "min_thresh = 0\n",
    "max_thresh = 100\n",
    "\n",
    "X_dev_filtered = X_dev[ X_dev[\"quality\"] >= min_thresh]\n",
    "X_dev_filtered = X_dev_filtered[ X_dev_filtered[\"quality\"] <= max_thresh]\n",
    "X_dev_filtered = X_dev_filtered.drop(columns=['description','region_2','designation'])\n",
    "X_eval = X_eval.drop(columns=['description','region_2','designation'])\n",
    "\n",
    "y = X_dev_filtered.quality\n",
    "X_dev_filtered = X_dev_filtered.drop(columns=[\"quality\"])\n",
    "\n",
    "features_to_encode = ['province','variety','winery','region_1','country']\n",
    "#t = [17,80,80,100,60]\n",
    "X_dev_prep, X_eval_prep = preprocessingV4(X_dev_filtered,X_eval,features_to_encode,t)\n",
    "\n",
    "fig, ax = plt.subplots(figsize=(5, 5))\n",
    "models = [LinearRegression(),RandomForestRegressor(),SGDRegressor()]\n",
    "targets = [\"LinearRegression\",\"RandomForest\",\"SGDRegressor\"]\n",
    "\n",
    "scores = evaluateModels(models,targets,X_dev_prep,y)\n",
    "sns.boxplot(x=\"variable\", y=\"value\", data=pd.melt(scores), ax=ax)\n",
    "plt.xlabel(\"Model\")\n",
    "plt.ylabel(\"R2_Score\")\n",
    "###################################################################\n",
    "## 0/100 Q senza duplicati - tutti gli elementi codificati\n",
    "## -- senza designation\n",
    "###################################################################"
   ]
  },
  {
   "cell_type": "code",
   "execution_count": 15,
   "metadata": {},
   "outputs": [
    {
     "name": "stdout",
     "output_type": "stream",
     "text": [
      "LinearRegression has been concluded\n",
      "RandomForest has been concluded\n",
      "SGDRegressor has been concluded\n",
      "Wall time: 11min 36s\n"
     ]
    },
    {
     "data": {
      "text/plain": [
       "Text(0, 0.5, 'R2_Score')"
      ]
     },
     "execution_count": 15,
     "metadata": {},
     "output_type": "execute_result"
    },
    {
     "data": {
      "image/png": "[encoded data removed]",
      "text/plain": [
       "<Figure size 360x360 with 1 Axes>"
      ]
     },
     "metadata": {},
     "output_type": "display_data"
    }
   ],
   "source": [
    "%%time\n",
    "from sklearn.linear_model import LinearRegression, Ridge, ElasticNet\n",
    "\n",
    "X_dev = loadData('Dataset/dev.tsv')\n",
    "X_dev = X_dev.drop_duplicates()\n",
    "X_eval = loadData('Dataset/eval.tsv')\n",
    "\n",
    "min_thresh = 0\n",
    "max_thresh = 100\n",
    "\n",
    "X_dev_filtered = X_dev[ X_dev[\"quality\"] >= min_thresh]\n",
    "X_dev_filtered = X_dev_filtered[ X_dev_filtered[\"quality\"] <= max_thresh]\n",
    "\n",
    "X_dev_filtered = X_dev_filtered.drop(columns=['description','region_2','designation'])\n",
    "X_eval = X_eval.drop(columns=['description','region_2','designation'])\n",
    "\n",
    "y = X_dev_filtered.quality\n",
    "X_dev_filtered = X_dev_filtered.drop(columns=[\"quality\"])\n",
    "\n",
    "features_to_encode = ['province','variety','winery','region_1','country']\n",
    "X_dev_prep, X_eval_prep = preprocessingV5(X_dev_filtered,X_eval,features_to_encode)\n",
    "\n",
    "fig, ax = plt.subplots(figsize=(5, 5))\n",
    "models = [LinearRegression(),RandomForestRegressor(),SGDRegressor()]\n",
    "targets = [\"LinearRegression\",\"RandomForest\",\"SGDRegressor\"]\n",
    "\n",
    "scores = evaluateModels(models,targets,X_dev_prep,y)\n",
    "sns.boxplot(x=\"variable\", y=\"value\", data=pd.melt(scores), ax=ax)\n",
    "plt.xlabel(\"Model\")\n",
    "plt.ylabel(\"R2_Score\")\n",
    "###################################################################\n",
    "## 0/100 Q senza duplicati - tutti gli elementi codificati\n",
    "## -- senza designation | 80% delle features\n",
    "###################################################################"
   ]
  },
  {
   "cell_type": "code",
   "execution_count": 17,
   "metadata": {},
   "outputs": [
    {
     "name": "stdout",
     "output_type": "stream",
     "text": [
      "LinearRegression has been concluded\n",
      "RandomForest has been concluded\n",
      "SGDRegressor has been concluded\n",
      "Wall time: 13min 1s\n"
     ]
    },
    {
     "data": {
      "text/plain": [
       "Text(0, 0.5, 'R2_Score')"
      ]
     },
     "execution_count": 17,
     "metadata": {},
     "output_type": "execute_result"
    },
    {
     "data": {
      "image/png": "[encoded data removed]",
      "text/plain": [
       "<Figure size 360x360 with 1 Axes>"
      ]
     },
     "metadata": {},
     "output_type": "display_data"
    }
   ],
   "source": [
    "%%time\n",
    "from sklearn.linear_model import LinearRegression, Ridge, ElasticNet\n",
    "\n",
    "X_dev = loadData('Dataset/dev.tsv')\n",
    "X_dev = X_dev.drop_duplicates()\n",
    "X_eval = loadData('Dataset/eval.tsv')\n",
    "\n",
    "min_thresh = 0\n",
    "max_thresh = 100\n",
    "\n",
    "X_dev_filtered = X_dev[ X_dev[\"quality\"] >= min_thresh]\n",
    "X_dev_filtered = X_dev_filtered[ X_dev_filtered[\"quality\"] <= max_thresh]\n",
    "\n",
    "X_dev_filtered = X_dev_filtered.drop(columns=['description','region_2','designation'])\n",
    "X_eval = X_eval.drop(columns=['description','region_2','designation'])\n",
    "\n",
    "y = X_dev_filtered.quality\n",
    "X_dev_filtered = X_dev_filtered.drop(columns=[\"quality\"])\n",
    "\n",
    "features_to_encode = ['province','variety','winery','region_1','country']\n",
    "X_dev_prep, X_eval_prep = preprocessingV5(X_dev_filtered,X_eval,features_to_encode)\n",
    "\n",
    "fig, ax = plt.subplots(figsize=(5, 5))\n",
    "models = [LinearRegression(),RandomForestRegressor(),SGDRegressor()]\n",
    "targets = [\"LinearRegression\",\"RandomForest\",\"SGDRegressor\"]\n",
    "\n",
    "scores = evaluateModels(models,targets,X_dev_prep,y)\n",
    "sns.boxplot(x=\"variable\", y=\"value\", data=pd.melt(scores), ax=ax)\n",
    "plt.xlabel(\"Model\")\n",
    "plt.ylabel(\"R2_Score\")\n",
    "###################################################################\n",
    "## 0/100 Q senza duplicati - tutti gli elementi codificati\n",
    "## -- senza designation | 90% degli elementi per colonna\n",
    "###################################################################"
   ]
  },
  {
   "cell_type": "code",
   "execution_count": 19,
   "metadata": {},
   "outputs": [
    {
     "name": "stdout",
     "output_type": "stream",
     "text": [
      "LinearRegression has been concluded\n",
      "RandomForest has been concluded\n",
      "SGDRegressor has been concluded\n",
      "Wall time: 15min 58s\n"
     ]
    },
    {
     "data": {
      "text/plain": [
       "Text(0, 0.5, 'R2_Score')"
      ]
     },
     "execution_count": 19,
     "metadata": {},
     "output_type": "execute_result"
    },
    {
     "data": {
      "image/png": "[encoded data removed]",
      "text/plain": [
       "<Figure size 360x360 with 1 Axes>"
      ]
     },
     "metadata": {},
     "output_type": "display_data"
    }
   ],
   "source": [
    "%%time\n",
    "from sklearn.linear_model import LinearRegression, Ridge, ElasticNet\n",
    "\n",
    "X_dev = loadData('Dataset/dev.tsv')\n",
    "X_eval = loadData('Dataset/eval.tsv')\n",
    "\n",
    "min_thresh = 0\n",
    "max_thresh = 100\n",
    "\n",
    "X_dev_filtered = X_dev[ X_dev[\"quality\"] >= min_thresh]\n",
    "X_dev_filtered = X_dev_filtered[ X_dev_filtered[\"quality\"] <= max_thresh]\n",
    "\n",
    "X_dev_filtered = X_dev_filtered.drop(columns=['description','region_2','designation'])\n",
    "X_eval = X_eval.drop(columns=['description','region_2','designation'])\n",
    "\n",
    "y = X_dev_filtered.quality\n",
    "X_dev_filtered = X_dev_filtered.drop(columns=[\"quality\"])\n",
    "\n",
    "features_to_encode = ['province','variety','winery','region_1','country']\n",
    "X_dev_prep, X_eval_prep = preprocessingV5(X_dev_filtered,X_eval,features_to_encode)\n",
    "\n",
    "fig, ax = plt.subplots(figsize=(5, 5))\n",
    "models = [LinearRegression(),RandomForestRegressor(),SGDRegressor()]\n",
    "targets = [\"LinearRegression\",\"RandomForest\",\"SGDRegressor\"]\n",
    "\n",
    "scores = evaluateModels(models,targets,X_dev_prep,y)\n",
    "sns.boxplot(x=\"variable\", y=\"value\", data=pd.melt(scores), ax=ax)\n",
    "plt.xlabel(\"Model\")\n",
    "plt.ylabel(\"R2_Score\")\n",
    "###################################################################\n",
    "## 0/100 Q con duplicati - tutti gli elementi codificati\n",
    "## -- senza designation | 80% degli elementi per colonna\n",
    "###################################################################"
   ]
  },
  {
   "cell_type": "code",
   "execution_count": 27,
   "metadata": {},
   "outputs": [
    {
     "name": "stdout",
     "output_type": "stream",
     "text": [
      "LinearRegression has been concluded\n",
      "RandomForest has been concluded\n",
      "SGDRegressor has been concluded\n",
      "Wall time: 11min 26s\n"
     ]
    },
    {
     "data": {
      "text/plain": [
       "Text(0, 0.5, 'R2_Score')"
      ]
     },
     "execution_count": 27,
     "metadata": {},
     "output_type": "execute_result"
    },
    {
     "data": {
      "image/png": "[encoded data removed]",
      "text/plain": [
       "<Figure size 360x360 with 1 Axes>"
      ]
     },
     "metadata": {},
     "output_type": "display_data"
    }
   ],
   "source": [
    "%%time\n",
    "from sklearn.linear_model import LinearRegression, Ridge, ElasticNet\n",
    "\n",
    "X_dev = loadData('Dataset/dev.tsv')\n",
    "X_eval = loadData('Dataset/eval.tsv')\n",
    "\n",
    "min_thresh = 0\n",
    "max_thresh = 100\n",
    "\n",
    "X_dev_filtered = X_dev[ X_dev[\"quality\"] >= min_thresh]\n",
    "X_dev_filtered = X_dev_filtered[ X_dev_filtered[\"quality\"] <= max_thresh]\n",
    "\n",
    "X_dev_filtered = X_dev_filtered.drop(columns=['description','region_2','designation'])\n",
    "X_eval = X_eval.drop(columns=['description','region_2','designation'])\n",
    "\n",
    "y = X_dev_filtered.quality\n",
    "X_dev_filtered = X_dev_filtered.drop(columns=[\"quality\"])\n",
    "\n",
    "features_to_encode = ['province','variety','winery','region_1','country']\n",
    "X_dev_prep, X_eval_prep = preprocessingV5(X_dev_filtered,X_eval,features_to_encode)\n",
    "\n",
    "fig, ax = plt.subplots(figsize=(5, 5))\n",
    "models = [LinearRegression(),RandomForestRegressor(),SGDRegressor()]\n",
    "targets = [\"LinearRegression\",\"RandomForest\",\"SGDRegressor\"]\n",
    "\n",
    "scores = evaluateModels(models,targets,X_dev_prep,y)\n",
    "sns.boxplot(x=\"variable\", y=\"value\", data=pd.melt(scores), ax=ax)\n",
    "plt.xlabel(\"Model\")\n",
    "plt.ylabel(\"R2_Score\")\n",
    "###################################################################\n",
    "## 0/100 Q con duplicati - tutti gli elementi codificati\n",
    "## -- senza designation | 50% degli elementi per colonna\n",
    "###################################################################"
   ]
  },
  {
   "cell_type": "code",
   "execution_count": 28,
   "metadata": {},
   "outputs": [
    {
     "name": "stdout",
     "output_type": "stream",
     "text": [
      "LinearRegression has been concluded\n",
      "RandomForest has been concluded\n",
      "SGDRegressor has been concluded\n",
      "Wall time: 29min 5s\n"
     ]
    },
    {
     "data": {
      "text/plain": [
       "Text(0, 0.5, 'R2_Score')"
      ]
     },
     "execution_count": 28,
     "metadata": {},
     "output_type": "execute_result"
    },
    {
     "data": {
      "image/png": "[encoded data removed]",
      "text/plain": [
       "<Figure size 360x360 with 1 Axes>"
      ]
     },
     "metadata": {},
     "output_type": "display_data"
    }
   ],
   "source": [
    "%%time\n",
    "from sklearn.linear_model import LinearRegression, Ridge, ElasticNet\n",
    "\n",
    "X_dev = loadData('Dataset/dev.tsv')\n",
    "X_eval = loadData('Dataset/eval.tsv')\n",
    "\n",
    "min_thresh = 0\n",
    "max_thresh = 100\n",
    "\n",
    "X_dev_filtered = X_dev[ X_dev[\"quality\"] >= min_thresh]\n",
    "X_dev_filtered = X_dev_filtered[ X_dev_filtered[\"quality\"] <= max_thresh]\n",
    "\n",
    "X_dev_filtered = X_dev_filtered.drop(columns=['description','region_2'])\n",
    "X_eval = X_eval.drop(columns=['description','region_2'])\n",
    "\n",
    "y = X_dev_filtered.quality\n",
    "X_dev_filtered = X_dev_filtered.drop(columns=[\"quality\"])\n",
    "\n",
    "features_to_encode = ['designation','province','variety','winery','region_1','country']\n",
    "X_dev_prep, X_eval_prep = preprocessingV5(X_dev_filtered,X_eval,features_to_encode)\n",
    "\n",
    "fig, ax = plt.subplots(figsize=(5, 5))\n",
    "models = [LinearRegression(),RandomForestRegressor(),SGDRegressor()]\n",
    "targets = [\"LinearRegression\",\"RandomForest\",\"SGDRegressor\"]\n",
    "\n",
    "scores = evaluateModels(models,targets,X_dev_prep,y)\n",
    "sns.boxplot(x=\"variable\", y=\"value\", data=pd.melt(scores), ax=ax)\n",
    "plt.xlabel(\"Model\")\n",
    "plt.ylabel(\"R2_Score\")\n",
    "###################################################################\n",
    "## 0/100 Q con duplicati - tutti gli elementi codificati\n",
    "## | 50% degli elementi per colonna\n",
    "###################################################################"
   ]
  },
  {
   "cell_type": "code",
   "execution_count": 39,
   "metadata": {},
   "outputs": [
    {
     "name": "stdout",
     "output_type": "stream",
     "text": [
      "LinearRegression has been concluded\n",
      "RandomForest has been concluded\n",
      "Wall time: 28.9 s\n"
     ]
    },
    {
     "data": {
      "text/plain": [
       "Text(0, 0.5, 'R2_Score')"
      ]
     },
     "execution_count": 39,
     "metadata": {},
     "output_type": "execute_result"
    },
    {
     "data": {
      "image/png": "[encoded data removed]",
      "text/plain": [
       "<Figure size 360x360 with 1 Axes>"
      ]
     },
     "metadata": {},
     "output_type": "display_data"
    }
   ],
   "source": [
    "%%time\n",
    "from sklearn.linear_model import LinearRegression, Ridge, ElasticNet\n",
    "\n",
    "X_dev = loadData('Dataset/dev.tsv')\n",
    "X_eval = loadData('Dataset/eval.tsv')\n",
    "\n",
    "min_thresh = 0\n",
    "max_thresh = 100\n",
    "\n",
    "X_dev_filtered = X_dev[ X_dev[\"quality\"] >= min_thresh]\n",
    "X_dev_filtered = X_dev_filtered[ X_dev_filtered[\"quality\"] <= max_thresh]\n",
    "\n",
    "X_dev_filtered = X_dev_filtered.drop(columns=['description','region_2'])\n",
    "X_eval = X_eval.drop(columns=['description','region_2'])\n",
    "\n",
    "y = X_dev_filtered.quality\n",
    "X_dev_filtered = X_dev_filtered.drop(columns=[\"quality\"])\n",
    "\n",
    "features_to_encode = ['designation','province','variety','winery','region_1','country']\n",
    "X_dev_prep, X_eval_prep = preprocessingV5(X_dev_filtered,X_eval,features_to_encode)\n",
    "\n",
    "fig, ax = plt.subplots(figsize=(5, 5))\n",
    "models = [LinearRegression(),RandomForestRegressor(),SGDRegressor()]\n",
    "targets = [\"LinearRegression\",\"RandomForest\",\"SGDRegressor\"]\n",
    "\n",
    "scores = evaluateModels(models,targets,X_dev_prep,y)\n",
    "sns.boxplot(x=\"variable\", y=\"value\", data=pd.melt(scores), ax=ax)\n",
    "plt.xlabel(\"Model\")\n",
    "plt.ylabel(\"R2_Score\")\n",
    "###################################################################\n",
    "## 0/100 Q con duplicati - tutti gli elementi codificati\n",
    "## | 70% degli elementi per colonna\n",
    "###################################################################"
   ]
  },
  {
   "cell_type": "code",
   "execution_count": 42,
   "metadata": {},
   "outputs": [
    {
     "name": "stdout",
     "output_type": "stream",
     "text": [
      "LinearRegression has been concluded\n",
      "RandomForest has been concluded\n",
      "SGDRegressor has been concluded\n",
      "Wall time: 37min 14s\n"
     ]
    },
    {
     "data": {
      "text/plain": [
       "Text(0, 0.5, 'R2_Score')"
      ]
     },
     "execution_count": 42,
     "metadata": {},
     "output_type": "execute_result"
    },
    {
     "data": {
      "image/png": "[encoded data removed]",
      "text/plain": [
       "<Figure size 360x360 with 1 Axes>"
      ]
     },
     "metadata": {},
     "output_type": "display_data"
    }
   ],
   "source": [
    "%%time\n",
    "from sklearn.linear_model import LinearRegression, Ridge, ElasticNet\n",
    "\n",
    "X_dev = loadData('Dataset/dev.tsv')\n",
    "X_eval = loadData('Dataset/eval.tsv')\n",
    "\n",
    "min_thresh = 0\n",
    "max_thresh = 100\n",
    "\n",
    "X_dev_filtered = X_dev[ X_dev[\"quality\"] >= min_thresh]\n",
    "X_dev_filtered = X_dev_filtered[ X_dev_filtered[\"quality\"] <= max_thresh]\n",
    "\n",
    "X_dev_filtered = X_dev_filtered.drop(columns=['description','region_2'])\n",
    "X_eval = X_eval.drop(columns=['description','region_2'])\n",
    "\n",
    "y = X_dev_filtered.quality\n",
    "X_dev_filtered = X_dev_filtered.drop(columns=[\"quality\"])\n",
    "\n",
    "features_to_encode = ['designation','province','variety','winery','region_1','country']\n",
    "X_dev_prep, X_eval_prep = preprocessingV5(X_dev_filtered,X_eval,features_to_encode)\n",
    "\n",
    "fig, ax = plt.subplots(figsize=(5, 5))\n",
    "models = [LinearRegression(),RandomForestRegressor(),SGDRegressor()]\n",
    "targets = [\"LinearRegression\",\"RandomForest\",\"SGDRegressor\"]\n",
    "\n",
    "scores = evaluateModels(models,targets,X_dev_prep,y)\n",
    "sns.boxplot(x=\"variable\", y=\"value\", data=pd.melt(scores), ax=ax)\n",
    "plt.xlabel(\"Model\")\n",
    "plt.ylabel(\"R2_Score\")\n",
    "###################################################################\n",
    "## 0/100 Q con duplicati - tutti gli elementi codificati\n",
    "## | 70% degli elementi per colonna\n",
    "###################################################################"
   ]
  },
  {
   "cell_type": "code",
   "execution_count": 44,
   "metadata": {},
   "outputs": [
    {
     "name": "stdout",
     "output_type": "stream",
     "text": [
      "LinearRegression has been concluded\n",
      "RandomForest has been concluded\n",
      "SGDRegressor has been concluded\n",
      "Wall time: 45min 26s\n"
     ]
    },
    {
     "data": {
      "text/plain": [
       "Text(0, 0.5, 'R2_Score')"
      ]
     },
     "execution_count": 44,
     "metadata": {},
     "output_type": "execute_result"
    },
    {
     "data": {
      "image/png": "[encoded data removed]",
      "text/plain": [
       "<Figure size 360x360 with 1 Axes>"
      ]
     },
     "metadata": {},
     "output_type": "display_data"
    }
   ],
   "source": [
    "%%time\n",
    "from sklearn.linear_model import LinearRegression, Ridge, ElasticNet\n",
    "\n",
    "X_dev = loadData('Dataset/dev.tsv')\n",
    "X_eval = loadData('Dataset/eval.tsv')\n",
    "\n",
    "min_thresh = 0\n",
    "max_thresh = 100\n",
    "\n",
    "X_dev_filtered = X_dev[ X_dev[\"quality\"] >= min_thresh]\n",
    "X_dev_filtered = X_dev_filtered[ X_dev_filtered[\"quality\"] <= max_thresh]\n",
    "\n",
    "X_dev_filtered = X_dev_filtered.drop(columns=['description','region_2'])\n",
    "X_eval = X_eval.drop(columns=['description','region_2'])\n",
    "\n",
    "y = X_dev_filtered.quality\n",
    "X_dev_filtered = X_dev_filtered.drop(columns=[\"quality\"])\n",
    "\n",
    "features_to_encode = ['designation','province','variety','winery','region_1','country']\n",
    "X_dev_prep, X_eval_prep = preprocessingV5(X_dev_filtered,X_eval,features_to_encode)\n",
    "\n",
    "fig, ax = plt.subplots(figsize=(5, 5))\n",
    "models = [LinearRegression(),RandomForestRegressor(),SGDRegressor()]\n",
    "targets = [\"LinearRegression\",\"RandomForest\",\"SGDRegressor\"]\n",
    "\n",
    "scores = evaluateModels(models,targets,X_dev_prep,y)\n",
    "sns.boxplot(x=\"variable\", y=\"value\", data=pd.melt(scores), ax=ax)\n",
    "plt.xlabel(\"Model\")\n",
    "plt.ylabel(\"R2_Score\")\n",
    "###################################################################\n",
    "## 0/100 Q con duplicati - tutti gli elementi codificati\n",
    "## | 85% degli elementi per colonna\n",
    "###################################################################"
   ]
  },
  {
   "cell_type": "code",
   "execution_count": null,
   "metadata": {},
   "outputs": [],
   "source": [
    "%%time\n",
    "from sklearn.linear_model import LinearRegression, Ridge, ElasticNet\n",
    "\n",
    "X_dev = loadData('Dataset/dev.tsv')\n",
    "X_eval = loadData('Dataset/eval.tsv')\n",
    "\n",
    "min_thresh = 0\n",
    "max_thresh = 100\n",
    "\n",
    "X_dev_filtered = X_dev[ X_dev[\"quality\"] >= min_thresh]\n",
    "X_dev_filtered = X_dev_filtered[ X_dev_filtered[\"quality\"] <= max_thresh]\n",
    "\n",
    "X_dev_filtered = X_dev_filtered.drop(columns=['description','region_2'])\n",
    "X_eval = X_eval.drop(columns=['description','region_2'])\n",
    "\n",
    "y = X_dev_filtered.quality\n",
    "X_dev_filtered = X_dev_filtered.drop(columns=[\"quality\"])\n",
    "\n",
    "features_to_encode = ['designation','province','variety','winery','region_1','country']\n",
    "X_dev_prep, X_eval_prep = preprocessingV5(X_dev_filtered,X_eval,features_to_encode)\n",
    "\n",
    "fig, ax = plt.subplots(figsize=(5, 5))\n",
    "models = [LinearRegression(),RandomForestRegressor(),SGDRegressor()]\n",
    "targets = [\"LinearRegression\",\"RandomForest\",\"SGDRegressor\"]\n",
    "\n",
    "scores = evaluateModels(models,targets,X_dev_prep,y)\n",
    "sns.boxplot(x=\"variable\", y=\"value\", data=pd.melt(scores), ax=ax)\n",
    "plt.xlabel(\"Model\")\n",
    "plt.ylabel(\"R2_Score\")\n",
    "###################################################################\n",
    "## 0/100 Q con duplicati - tutti gli elementi codificati\n",
    "## | 100% degli elementi per colonna\n",
    "###################################################################"
   ]
  },
  {
   "cell_type": "markdown",
   "metadata": {},
   "source": [
    "## Preprocessing selection\n"
   ]
  },
  {
   "cell_type": "code",
   "execution_count": null,
   "metadata": {},
   "outputs": [],
   "source": [
    "%%time\n",
    "from sklearn.linear_model import LinearRegression, Ridge, ElasticNet\n",
    "\n",
    "X_dev = loadData('Dataset/dev.tsv')\n",
    "X_eval = loadData('Dataset/eval.tsv')\n",
    "\n",
    "y = X_dev.quality\n",
    "X_dev = X_dev.drop(columns=[\"description\",\"region_2\",\"quality\"])\n",
    "X_eval = X_eval.drop(columns=[\"description\",\"region_2\"])\n",
    "\n",
    "features_to_encode = ['designation','province','variety','winery','region_1','country']\n",
    "X_dev_prep, X_eval_prep = preprocessingV4(X_dev,X_eval,features_to_encode)"
   ]
  },
  {
   "cell_type": "code",
   "execution_count": null,
   "metadata": {},
   "outputs": [],
   "source": [
    "X_dev_prep.shape, X_eval_prep.shape"
   ]
  },
  {
   "cell_type": "markdown",
   "metadata": {},
   "source": [
    "## Hyperparameter tuning"
   ]
  },
  {
   "cell_type": "code",
   "execution_count": 23,
   "metadata": {},
   "outputs": [],
   "source": [
    "def doGridSearch(model,model_name,hyperparams,X,y):\n",
    "    gs = GridSearchCV(estimator=model,  \n",
    "                         param_grid=hyperparams,\n",
    "                         scoring='r2',\n",
    "                         cv=3,\n",
    "                         n_jobs=4,\n",
    "                         verbose=True)\n",
    "\n",
    "    gs.fit(X, y)\n",
    "    return gs"
   ]
  },
  {
   "cell_type": "code",
   "execution_count": 24,
   "metadata": {},
   "outputs": [
    {
     "name": "stdout",
     "output_type": "stream",
     "text": [
      "Fitting 3 folds for each of 1 candidates, totalling 3 fits\n"
     ]
    },
    {
     "name": "stderr",
     "output_type": "stream",
     "text": [
      "[Parallel(n_jobs=4)]: Using backend LokyBackend with 4 concurrent workers.\n",
      "[Parallel(n_jobs=4)]: Done   3 out of   3 | elapsed: 26.7min finished\n",
      "[Parallel(n_jobs=4)]: Using backend ThreadingBackend with 4 concurrent workers.\n",
      "[Parallel(n_jobs=4)]: Done  42 tasks      | elapsed:  2.2min\n",
      "[Parallel(n_jobs=4)]: Done 192 tasks      | elapsed:  9.6min\n"
     ]
    },
    {
     "name": "stdout",
     "output_type": "stream",
     "text": [
      "Best params:\t{'max_features': 'auto', 'n_estimators': 300, 'n_jobs': 4, 'random_state': 42}\n",
      "Best score:\t0.7134175554757253\n"
     ]
    },
    {
     "name": "stderr",
     "output_type": "stream",
     "text": [
      "[Parallel(n_jobs=4)]: Done 300 out of 300 | elapsed: 15.0min finished\n"
     ]
    }
   ],
   "source": [
    "hyperparams_RF = {\n",
    "    \"n_estimators\": [300],\n",
    "    #\"criterion\": [\"mse\", \"mae\"],\n",
    "    \"max_features\": [\"auto\"],\n",
    "    \"random_state\": [42],# always use the samet random seed\n",
    "    \"n_jobs\": [4],# for parallelization\n",
    "}\n",
    "\n",
    "gs = doGridSearch(RandomForestRegressor(verbose=True), \"RandomForestRegressor\",hyperparams_RF,X_dev_prep,y)\n",
    "print(f\"Best params:\\t{gs.best_params_}\")\n",
    "print(f\"Best score:\\t{gs.best_score_}\")"
   ]
  },
  {
   "cell_type": "code",
   "execution_count": 8,
   "metadata": {},
   "outputs": [
    {
     "data": {
      "text/plain": [
       "RandomForestRegressor()"
      ]
     },
     "execution_count": 8,
     "metadata": {},
     "output_type": "execute_result"
    }
   ],
   "source": [
    "rf = RandomForestRegressor(n_jobs=-1)\n",
    "rf.fit(X_dev_prep,y)"
   ]
  },
  {
   "cell_type": "markdown",
   "metadata": {},
   "source": [
    "## Prediction"
   ]
  },
  {
   "cell_type": "code",
   "execution_count": 9,
   "metadata": {},
   "outputs": [],
   "source": [
    "def get_csv(ids, y):\n",
    "    pd.DataFrame(dict(Id = ids,Predicted = y)).to_csv(\"submission20.csv\",sep=\",\",index=False)\n",
    "\n",
    "y_pred = rf.predict(X_eval_prep)\n",
    "get_csv(list(X_eval.index),y_pred)"
   ]
  },
  {
   "cell_type": "markdown",
   "metadata": {},
   "source": [
    "## Submissions\n",
    "\n",
    "### Submission 16 : 0.774 \n",
    "* fit the StandardScaler on the development set\n",
    "* y = winsorize(X_dev[\"quality\"], limits=[0.1, 0.1])\n",
    "\n",
    "### Submission 17 : 0.753\n",
    "* sparse matrix with getDummies \n",
    "* with duplicates\n",
    "* 80% of each categorical elements\n",
    "* RandomForestRegressor : {'max_features': 'auto', 'n_estimators': 300, 'n_jobs': 4, 'random_state': 42}\n",
    "* quality from 0 to 100\n",
    "* without description, designation and region_2\n",
    "\n",
    "### Submission 18 : 0.820\n",
    "* sparse matrix with getDummies \n",
    "* with duplicates\n",
    "* 50% of each categorical elements\n",
    "* RandomForestRegressor (naive)\n",
    "* quality from 0 to 100\n",
    "* without description, and region_2\n",
    "\n",
    "### Submission 19 : 0.832\n",
    "* sparse matrix with getDummies \n",
    "* with duplicates\n",
    "* 85% of each categorical elements\n",
    "* RandomForestRegressor (naive)\n",
    "* quality from 0 to 100\n",
    "* without description, and region_2\n",
    "\n",
    "### Submission 20 : \n",
    "* sparse matrix with getDummies \n",
    "* with duplicates\n",
    "* 85% of each categorical elements\n",
    "* RandomForestRegressor (naive)\n",
    "* quality from 0 to 100\n",
    "* without description, and region_2"
   ]
  },
  {
   "cell_type": "code",
   "execution_count": 5,
   "metadata": {},
   "outputs": [],
   "source": [
    "X_d = loadData('Dataset/dev.tsv')\n",
    "X_e = loadData('Dataset/eval.tsv')\n",
    "\n",
    "X_d = X_d.fillna(\"other\")\n",
    "X_e = X_e.fillna(\"other\")\n",
    "\n",
    "X_d = X_d.drop(columns=['description','region_2','quality'])\n",
    "X_e = X_e.drop(columns=['description','region_2'])\n",
    "\n",
    "df = pd.concat([X_d,X_e])"
   ]
  },
  {
   "cell_type": "code",
   "execution_count": 6,
   "metadata": {},
   "outputs": [],
   "source": [
    "df_enc = pd.get_dummies(df)"
   ]
  },
  {
   "cell_type": "code",
   "execution_count": 7,
   "metadata": {},
   "outputs": [
    {
     "data": {
      "text/plain": [
       "(150930, 47806)"
      ]
     },
     "execution_count": 7,
     "metadata": {},
     "output_type": "execute_result"
    }
   ],
   "source": [
    "df_enc.shape"
   ]
  },
  {
   "cell_type": "code",
   "execution_count": 8,
   "metadata": {},
   "outputs": [],
   "source": [
    "df_enc_scipy = scipy.sparse.csr_matrix(pd.get_dummies(df).values)"
   ]
  },
  {
   "cell_type": "code",
   "execution_count": 10,
   "metadata": {},
   "outputs": [
    {
     "data": {
      "text/plain": [
       "(150930, 47806)"
      ]
     },
     "execution_count": 10,
     "metadata": {},
     "output_type": "execute_result"
    }
   ],
   "source": [
    "df_enc_scipy.shape"
   ]
  },
  {
   "cell_type": "code",
   "execution_count": 11,
   "metadata": {},
   "outputs": [],
   "source": [
    "dev = df_enc_scipy[:X_d.shape[0]]\n",
    "eva = df_enc_scipy[X_d.shape[0]:]"
   ]
  },
  {
   "cell_type": "code",
   "execution_count": 12,
   "metadata": {},
   "outputs": [
    {
     "data": {
      "text/plain": [
       "(120744, 47806)"
      ]
     },
     "execution_count": 12,
     "metadata": {},
     "output_type": "execute_result"
    }
   ],
   "source": [
    "dev.shape"
   ]
  },
  {
   "cell_type": "code",
   "execution_count": 13,
   "metadata": {},
   "outputs": [
    {
     "data": {
      "text/plain": [
       "(30186, 47806)"
      ]
     },
     "execution_count": 13,
     "metadata": {},
     "output_type": "execute_result"
    }
   ],
   "source": [
    "eva.shape"
   ]
  },
  {
   "cell_type": "code",
   "execution_count": 27,
   "metadata": {},
   "outputs": [
    {
     "data": {
      "text/plain": [
       "<150930x47806 sparse matrix of type '<class 'numpy.uint8'>'\n",
       "\twith 905580 stored elements in Compressed Sparse Row format>"
      ]
     },
     "execution_count": 27,
     "metadata": {},
     "output_type": "execute_result"
    }
   ],
   "source": [
    "df_enc_scipy"
   ]
  },
  {
   "cell_type": "code",
   "execution_count": null,
   "metadata": {},
   "outputs": [],
   "source": []
  }
 ],
 "metadata": {
  "kernelspec": {
   "display_name": "Python 3",
   "language": "python",
   "name": "python3"
  },
  "language_info": {
   "codemirror_mode": {
    "name": "ipython",
    "version": 3
   },
   "file_extension": ".py",
   "mimetype": "text/x-python",
   "name": "python",
   "nbconvert_exporter": "python",
   "pygments_lexer": "ipython3",
   "version": "3.8.3"
  }
 },
 "nbformat": 4,
 "nbformat_minor": 4
}
