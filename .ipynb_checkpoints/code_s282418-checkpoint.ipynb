{
 "cells": [
  {
   "cell_type": "markdown",
   "metadata": {
    "id": "T83Qs1LLL50A"
   },
   "source": [
    "# Wine Quality Prediction \n",
    "Francesco Di Salvo<br />\n",
    "s282418@studenti.polito.it"
   ]
  },
  {
   "cell_type": "markdown",
   "metadata": {
    "id": "_Qd6_WZ4FHs5"
   },
   "source": [
    "## Import"
   ]
  },
  {
   "cell_type": "code",
   "execution_count": 1,
   "metadata": {
    "colab": {
     "base_uri": "https://localhost:8080/"
    },
    "id": "mKf4fWlpCwbK",
    "outputId": "3a50e2bb-bc86-4535-9d47-9c3fbddb776d"
   },
   "outputs": [
    {
     "name": "stderr",
     "output_type": "stream",
     "text": [
      "[nltk_data] Downloading package wordnet to\n",
      "[nltk_data]     C:\\Users\\Francesco\\AppData\\Roaming\\nltk_data...\n",
      "[nltk_data]   Package wordnet is already up-to-date!\n",
      "[nltk_data] Downloading package stopwords to\n",
      "[nltk_data]     C:\\Users\\Francesco\\AppData\\Roaming\\nltk_data...\n",
      "[nltk_data]   Package stopwords is already up-to-date!\n"
     ]
    },
    {
     "data": {
      "text/plain": [
       "True"
      ]
     },
     "execution_count": 1,
     "metadata": {},
     "output_type": "execute_result"
    }
   ],
   "source": [
    "from scipy.sparse import hstack\n",
    "import pandas as pd\n",
    "import numpy as np\n",
    "\n",
    "from sklearn.linear_model import LinearRegression,SGDRegressor, Ridge\n",
    "from sklearn.impute import SimpleImputer\n",
    "from sklearn.model_selection import GridSearchCV, cross_val_score\n",
    "import scipy\n",
    "\n",
    "import re\n",
    "import pandas as pd\n",
    "from nltk.corpus import stopwords\n",
    "import spacy\n",
    "\n",
    "from nltk.stem.snowball import SnowballStemmer\n",
    "from sklearn.feature_extraction.text import CountVectorizer, TfidfTransformer\n",
    "from sklearn.feature_extraction.text import TfidfVectorizer\n",
    "from sklearn.feature_extraction import DictVectorizer\n",
    "from sklearn.model_selection import ParameterGrid\n",
    "from sklearn.pipeline import Pipeline\n",
    "from sklearn.feature_extraction import text\n",
    "\n",
    "import matplotlib.pyplot as plt\n",
    "import seaborn as sns\n",
    "sns.set_style(\"darkgrid\")\n",
    "\n",
    "import nltk\n",
    "nltk.download('wordnet')\n",
    "nltk.download('stopwods')\n",
    "nltk.download('punkt')"
   ]
  },
  {
   "cell_type": "markdown",
   "metadata": {
    "id": "DDakdoqnFLdH"
   },
   "source": [
    "## Methods and utils"
   ]
  },
  {
   "cell_type": "code",
   "execution_count": 2,
   "metadata": {
    "id": "E5VeVVJECyjz"
   },
   "outputs": [],
   "source": [
    "##################################  \n",
    "## General methods\n",
    "##################################\n",
    "\n",
    "def loadData(directory):\n",
    "    df = pd.read_csv(directory,sep=\"\\t\")\n",
    "    return df\n",
    "\n",
    "def get_final_csv(ids, y, filename):\n",
    "    pd.DataFrame(dict(Id = ids,Predicted = y)).to_csv(filename,sep=\",\",index=False)\n",
    "\n",
    "    \n",
    "models = [LinearRegression(),Ridge(), SGDRegressor()]\n",
    "targets = [\"LinearRegression\",\"Ridge\",\"SGDRegressor\"]\n",
    "def evaluateModels(models, targets,X,y):\n",
    "    \n",
    "    scores = pd.DataFrame()\n",
    "    for model,target in zip(models,targets):\n",
    "        scores[target] = cross_val_score(model, X, y, scoring='r2', cv=3, n_jobs=-1)\n",
    "        \n",
    "    return scores\n",
    "\n",
    "\n",
    "\n",
    "##################################  \n",
    "## Encoding and Missing values\n",
    "##################################\n",
    "def preprocessing(X_d,X_e):\n",
    "    \n",
    "    # region_2 has too many duplicates\n",
    "    # description will be manipulated separately\n",
    "    X_d = X_d.drop(columns=[\"region_2\",\"description\"])\n",
    "    X_e = X_e.drop(columns=[\"region_2\",\"description\"])\n",
    "\n",
    "    # impute country and province with the most common values\n",
    "    imputer = SimpleImputer(missing_values=np.nan, strategy='most_frequent')\n",
    "    X_d[\"country\"] = imputer.fit_transform(np.array(X_d[\"country\"]).reshape(-1,1))\n",
    "    X_d[\"province\"] = imputer.fit_transform(np.array(X_d[\"province\"]).reshape(-1,1))\n",
    "    \n",
    "    # fill designation with the sentinel value \"other\"\n",
    "    X_d = X_d.fillna(\"other\")\n",
    "    X_e = X_e.fillna(\"other\")\n",
    "    \n",
    "    y = X_d.quality\n",
    "    X_d = X_d.drop(columns=[\"quality\"])\n",
    "    \n",
    "    # concat dev and eval for the encoding \n",
    "    df = pd.concat([X_d,X_e])\n",
    "    \n",
    "    # encode and use the sparse matrix because pandas' df is too heavy\n",
    "    df_enc = pd.get_dummies(df)\n",
    "    df_enc_scipy = scipy.sparse.csr_matrix(df_enc.values)\n",
    "    \n",
    "    # split and return the encoded values\n",
    "    return df_enc_scipy[:X_d.shape[0]], y, df_enc_scipy[X_d.shape[0]:]"
   ]
  },
  {
   "cell_type": "code",
   "execution_count": 3,
   "metadata": {
    "id": "ZI_DM_XMCzq6"
   },
   "outputs": [],
   "source": [
    "##################################  \n",
    "## Document preprocessing\n",
    "##################################\n",
    "\n",
    "from nltk.tokenize import word_tokenize\n",
    "from nltk.stem.wordnet import WordNetLemmatizer\n",
    "from nltk.corpus import stopwords as sw\n",
    "\n",
    "# general structure learnt from Lab10\n",
    "class LemmaTokenizer(object):\n",
    "    def __init__(self):\n",
    "        self.lemmatizer = WordNetLemmatizer()\n",
    "        \n",
    "    def __call__(self, document):\n",
    "        lemmas = []\n",
    "        \n",
    "        for t in word_tokenize(document):\n",
    "            \n",
    "            # remove external spaces\n",
    "            t = t.strip()\n",
    "            # lowercase\n",
    "            t = t.lower()\n",
    "            # remove punctuation\n",
    "            t = re.sub(r'[^\\w\\s]','',t)\n",
    "            # remove numbers\n",
    "            t = re.sub(r'[\\d+]','',t)\n",
    "            \n",
    "            lemma = self.lemmatizer.lemmatize(t)\n",
    "            if len(lemma) > 2:\n",
    "                lemmas.append(lemma)\n",
    "    \n",
    "        return lemmas\n",
    "\n",
    "def preprocessText(description_train,description_test):\n",
    "    \n",
    "    vectorizer = TfidfVectorizer(ngram_range=(1,4), tokenizer=LemmaTokenizer(), stop_words=\"english\")\n",
    "    \n",
    "    # fit the TfidfVectorizer on the development set and transform it on both dev and eval\n",
    "    dev_vec = vectorizer.fit_transform(description_train.description)\n",
    "    eval_vec = vectorizer.transform(description_test.description)\n",
    "\n",
    "    return dev_vec, eval_vec"
   ]
  },
  {
   "cell_type": "markdown",
   "metadata": {
    "id": "akc_VhaCFPi0"
   },
   "source": [
    "## Load data"
   ]
  },
  {
   "cell_type": "code",
   "execution_count": 14,
   "metadata": {
    "id": "_3Vhg0tyC1_B"
   },
   "outputs": [],
   "source": [
    "# load datasets\n",
    "\n",
    "X_dev = loadData('Dataset/dev.tsv')\n",
    "X_eval = loadData('Dataset/eval.tsv')"
   ]
  },
  {
   "cell_type": "markdown",
   "metadata": {
    "id": "4XLIkh07FZhR"
   },
   "source": [
    "## Preprocessing β"
   ]
  },
  {
   "cell_type": "code",
   "execution_count": 5,
   "metadata": {
    "colab": {
     "base_uri": "https://localhost:8080/"
    },
    "id": "7-47PJktC5ai",
    "outputId": "9290de9c-8ebf-4638-c46e-168c672b13fe"
   },
   "outputs": [
    {
     "name": "stdout",
     "output_type": "stream",
     "text": [
      "Wall time: 12min 20s\n"
     ]
    }
   ],
   "source": [
    "%%time\n",
    "\n",
    "####################################################\n",
    "## Preprocessing - without removing the outliers : β\n",
    "####################################################\n",
    "\n",
    "# drop duplicates\n",
    "X_dev = X_dev.drop_duplicates()\n",
    "\n",
    "# encode the categorical features and handle np.nan\n",
    "X_dev_prep, y, X_eval_prep = preprocessing(X_dev,X_eval)\n",
    "\n",
    "# preprocess the descriptions\n",
    "dev_vec, eval_vec = preprocessText(X_dev[[\"description\"]].copy(),\n",
    "                                   X_eval[[\"description\"]].copy())\n",
    "\n",
    "# concat the encoded df and the tf-idf\n",
    "X_conc_dev = hstack((X_dev_prep, dev_vec))\n",
    "X_conc_eval = hstack((X_eval_prep, eval_vec))"
   ]
  },
  {
   "cell_type": "markdown",
   "metadata": {
    "id": "qSQS57qKFgAD"
   },
   "source": [
    "## Model evaluation"
   ]
  },
  {
   "cell_type": "code",
   "execution_count": 6,
   "metadata": {
    "id": "zW8VCa9sFkmC"
   },
   "outputs": [
    {
     "data": {
      "text/plain": [
       "LinearRegression    0.744518\n",
       "Ridge               0.737091\n",
       "SGDRegressor        0.681359\n",
       "dtype: float64"
      ]
     },
     "execution_count": 6,
     "metadata": {},
     "output_type": "execute_result"
    }
   ],
   "source": [
    "## for the instructor : you can skip this script\n",
    "\n",
    "####################################################\n",
    "## Evaluate β\n",
    "####################################################\n",
    "\n",
    "scores = evaluateModels(models,targets,X_conc_dev,y)\n",
    "\n",
    "np.mean(scores)"
   ]
  },
  {
   "cell_type": "markdown",
   "metadata": {
    "id": "3XN92dNDFnQM"
   },
   "source": [
    "## Hyperparameters tuning"
   ]
  },
  {
   "cell_type": "code",
   "execution_count": 10,
   "metadata": {
    "id": "mtt_J3khFrpH"
   },
   "outputs": [],
   "source": [
    "def doGridSearch(model,hyperparams,X,y):\n",
    "    \n",
    "    gs = GridSearchCV(estimator=model,param_grid=hyperparams,\n",
    "                      scoring='r2',cv=3, n_jobs=4,verbose=True)\n",
    "\n",
    "    gs.fit(X, y)\n",
    "    \n",
    "    return gs"
   ]
  },
  {
   "cell_type": "code",
   "execution_count": 8,
   "metadata": {
    "id": "w6-Y0bxEFtXr"
   },
   "outputs": [
    {
     "name": "stdout",
     "output_type": "stream",
     "text": [
      "Fitting 3 folds for each of 4 candidates, totalling 12 fits\n"
     ]
    },
    {
     "name": "stderr",
     "output_type": "stream",
     "text": [
      "[Parallel(n_jobs=4)]: Using backend LokyBackend with 4 concurrent workers.\n",
      "[Parallel(n_jobs=4)]: Done  12 out of  12 | elapsed: 32.2min finished\n"
     ]
    },
    {
     "name": "stdout",
     "output_type": "stream",
     "text": [
      "Best params:\t{'fit_intercept': True, 'normalize': False}\n",
      "Best score:\t0.7445182016806552\n"
     ]
    }
   ],
   "source": [
    "## for the instructor : you can skip this script\n",
    "\n",
    "####################################################\n",
    "## Grid search linear regression\n",
    "####################################################\n",
    "\n",
    "hyperparams_LR = {\n",
    "    'fit_intercept' : [True,False],\n",
    "    'normalize' : [True,False]\n",
    "}\n",
    "\n",
    "gs_lr = doGridSearch(LinearRegression(),hyperparams_LR,X_conc_dev,y)\n",
    "\n",
    "print(f\"Best params:\\t{gs_lr.best_params_}\")\n",
    "print(f\"Best score:\\t{gs_lr.best_score_}\")\n",
    "\n",
    "## y_pred_lr = gs_lr.predict(X_conc_eval)\n",
    "## get_final_csv(list(X_eval.index),y_pred_lr,\"submit-linear-regression.csv\")\n",
    "\n",
    "## 0.880 on the public score\n",
    "## {'fit_intercept': True, 'normalize': False}"
   ]
  },
  {
   "cell_type": "code",
   "execution_count": 9,
   "metadata": {},
   "outputs": [
    {
     "name": "stdout",
     "output_type": "stream",
     "text": [
      "Fitting 3 folds for each of 4 candidates, totalling 12 fits\n"
     ]
    },
    {
     "name": "stderr",
     "output_type": "stream",
     "text": [
      "[Parallel(n_jobs=4)]: Using backend LokyBackend with 4 concurrent workers.\n",
      "[Parallel(n_jobs=4)]: Done  12 out of  12 | elapsed:  5.2min finished\n"
     ]
    },
    {
     "name": "stdout",
     "output_type": "stream",
     "text": [
      "Best params:\t{'alpha': 0.01}\n",
      "Best score:\t0.745350502404858\n"
     ]
    }
   ],
   "source": [
    "## for the instructor : you can skip this script\n",
    "\n",
    "####################################################\n",
    "## Grid search Ridge\n",
    "####################################################\n",
    "\n",
    "hyperparams_Ridge = {\n",
    "    'alpha' : [0.01,0.1,1,10]\n",
    "}\n",
    "\n",
    "gs_ridge = doGridSearch(Ridge(),hyperparams_Ridge,X_conc_dev,y)\n",
    "print(f\"Best params:\\t{gs_ridge.best_params_}\")\n",
    "print(f\"Best score:\\t{gs_ridge.best_score_}\")\n",
    "\n",
    "## y_pred_sgd = gs_ridge.predict(X_conc_eval)\n",
    "## get_final_csv(list(X_eval.index),y_pred_sgd,\"submit-ridge.csv\")\n",
    "\n",
    "## 0.881 on the public score\n",
    "## {'alpha': 0.01}"
   ]
  },
  {
   "cell_type": "code",
   "execution_count": 11,
   "metadata": {
    "id": "GlevZte9Fuen"
   },
   "outputs": [
    {
     "name": "stdout",
     "output_type": "stream",
     "text": [
      "Fitting 3 folds for each of 24 candidates, totalling 72 fits\n"
     ]
    },
    {
     "name": "stderr",
     "output_type": "stream",
     "text": [
      "[Parallel(n_jobs=4)]: Using backend LokyBackend with 4 concurrent workers.\n",
      "[Parallel(n_jobs=4)]: Done  42 tasks      | elapsed: 41.7min\n",
      "[Parallel(n_jobs=4)]: Done  72 out of  72 | elapsed: 43.1min finished\n"
     ]
    },
    {
     "name": "stdout",
     "output_type": "stream",
     "text": [
      "Best params:\t{'alpha': 1e-05, 'eta0': 0.1, 'loss': 'squared_loss', 'penalty': 'l1'}\n",
      "Best score:\t0.7449553228087691\n"
     ]
    }
   ],
   "source": [
    "## for the instructor : you can skip this script\n",
    "\n",
    "####################################################\n",
    "## Grid search SGD Regressor\n",
    "####################################################\n",
    "\n",
    "hyperparams_SGD = {\n",
    "    'loss' : ['squared_loss'],\n",
    "    'penalty' : ['l1','l2'],\n",
    "    'alpha' : np.logspace(-5, 0, 6),\n",
    "    'eta0' : [0.01, 0.1]\n",
    "}\n",
    "\n",
    "gs_sgd = doGridSearch(SGDRegressor(max_iter=10000),hyperparams_SGD,X_conc_dev,y)\n",
    "print(f\"Best params:\\t{gs_sgd.best_params_}\")\n",
    "print(f\"Best score:\\t{gs_sgd.best_score_}\")\n",
    "\n",
    "y_pred_sgd = gs_sgd.predict(X_conc_eval)\n",
    "get_final_csv(list(X_eval.index),y_pred_sgd,\"submit-sgd-regressor.csv\")\n",
    "\n",
    "## 0.856 on the public score\n",
    "## {'alpha': 1e-05, 'eta0': 0.1, 'loss': 'squared_loss', 'penalty': 'l1'}"
   ]
  },
  {
   "cell_type": "markdown",
   "metadata": {
    "id": "xLq0yuRoFwul"
   },
   "source": [
    "## Final prediction "
   ]
  },
  {
   "cell_type": "code",
   "execution_count": 7,
   "metadata": {
    "id": "awoJivpdC-zm"
   },
   "outputs": [
    {
     "name": "stdout",
     "output_type": "stream",
     "text": [
      "Wall time: 3min 57s\n"
     ]
    }
   ],
   "source": [
    "%%time\n",
    "\n",
    "####################################################\n",
    "## Best hyperparameters found so far\n",
    "####################################################\n",
    "\n",
    "model = Ridge(alpha=0.01)\n",
    "model.fit(X_conc_dev,y)\n",
    "y_pred = model.predict(X_conc_eval)\n",
    "\n",
    "get_final_csv(list(X_eval.index),y_pred,\"submit.csv\")\n",
    "\n",
    "## 0.881 "
   ]
  }
 ],
 "metadata": {
  "accelerator": "GPU",
  "colab": {
   "collapsed_sections": [],
   "machine_shape": "hm",
   "name": "code_s282418",
   "provenance": [],
   "toc_visible": true
  },
  "kernelspec": {
   "display_name": "Python 3",
   "language": "python",
   "name": "python3"
  },
  "language_info": {
   "codemirror_mode": {
    "name": "ipython",
    "version": 3
   },
   "file_extension": ".py",
   "mimetype": "text/x-python",
   "name": "python",
   "nbconvert_exporter": "python",
   "pygments_lexer": "ipython3",
   "version": "3.8.3"
  }
 },
 "nbformat": 4,
 "nbformat_minor": 1
}
