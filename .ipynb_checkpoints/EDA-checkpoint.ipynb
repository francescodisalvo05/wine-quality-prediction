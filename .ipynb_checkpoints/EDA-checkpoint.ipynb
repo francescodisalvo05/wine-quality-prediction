{
 "cells": [
  {
   "cell_type": "code",
   "execution_count": 2,
   "metadata": {},
   "outputs": [],
   "source": [
    "import pandas as pd\n",
    "import numpy as np\n",
    "\n",
    "import matplotlib.pyplot as plt\n",
    "import seaborn as sns\n",
    "\n",
    "sns.set_style(\"whitegrid\")"
   ]
  },
  {
   "cell_type": "code",
   "execution_count": 5,
   "metadata": {},
   "outputs": [],
   "source": [
    "def loadData(directory):\n",
    "    \n",
    "    df = pd.read_csv(directory,sep=\"\\t\")\n",
    "    \n",
    "    return df\n",
    "\n",
    "X_dev = loadData('Dataset/dev.tsv')\n",
    "X_eval = loadData('Dataset/eval.tsv')"
   ]
  },
  {
   "cell_type": "code",
   "execution_count": 6,
   "metadata": {},
   "outputs": [
    {
     "data": {
      "text/plain": [
       "((120744, 9), (30186, 8))"
      ]
     },
     "execution_count": 6,
     "metadata": {},
     "output_type": "execute_result"
    }
   ],
   "source": [
    "## shapes\n",
    "X_dev.shape, X_eval.shape"
   ]
  },
  {
   "cell_type": "code",
   "execution_count": 7,
   "metadata": {},
   "outputs": [
    {
     "data": {
      "text/plain": [
       "country            5\n",
       "description        0\n",
       "designation    36518\n",
       "province           5\n",
       "region_1       20008\n",
       "region_2       72008\n",
       "variety            0\n",
       "winery             0\n",
       "quality            0\n",
       "dtype: int64"
      ]
     },
     "execution_count": 7,
     "metadata": {},
     "output_type": "execute_result"
    }
   ],
   "source": [
    "## dev null values\n",
    "X_dev.isnull().sum()"
   ]
  },
  {
   "cell_type": "code",
   "execution_count": 8,
   "metadata": {},
   "outputs": [
    {
     "data": {
      "text/plain": [
       "country            0\n",
       "description        0\n",
       "designation     9217\n",
       "province           0\n",
       "region_1        5052\n",
       "region_2       17969\n",
       "variety            0\n",
       "winery             0\n",
       "dtype: int64"
      ]
     },
     "execution_count": 8,
     "metadata": {},
     "output_type": "execute_result"
    }
   ],
   "source": [
    "## eval null values\n",
    "X_eval.isnull().sum()"
   ]
  },
  {
   "cell_type": "code",
   "execution_count": 10,
   "metadata": {},
   "outputs": [
    {
     "name": "stdout",
     "output_type": "stream",
     "text": [
      "<class 'pandas.core.frame.DataFrame'>\n",
      "RangeIndex: 120744 entries, 0 to 120743\n",
      "Data columns (total 9 columns):\n",
      " #   Column       Non-Null Count   Dtype  \n",
      "---  ------       --------------   -----  \n",
      " 0   country      120739 non-null  object \n",
      " 1   description  120744 non-null  object \n",
      " 2   designation  84226 non-null   object \n",
      " 3   province     120739 non-null  object \n",
      " 4   region_1     100736 non-null  object \n",
      " 5   region_2     48736 non-null   object \n",
      " 6   variety      120744 non-null  object \n",
      " 7   winery       120744 non-null  object \n",
      " 8   quality      120744 non-null  float64\n",
      "dtypes: float64(1), object(8)\n",
      "memory usage: 8.3+ MB\n"
     ]
    }
   ],
   "source": [
    "X_dev.info()"
   ]
  },
  {
   "cell_type": "code",
   "execution_count": 11,
   "metadata": {},
   "outputs": [
    {
     "name": "stdout",
     "output_type": "stream",
     "text": [
      "<class 'pandas.core.frame.DataFrame'>\n",
      "RangeIndex: 30186 entries, 0 to 30185\n",
      "Data columns (total 8 columns):\n",
      " #   Column       Non-Null Count  Dtype \n",
      "---  ------       --------------  ----- \n",
      " 0   country      30186 non-null  object\n",
      " 1   description  30186 non-null  object\n",
      " 2   designation  20969 non-null  object\n",
      " 3   province     30186 non-null  object\n",
      " 4   region_1     25134 non-null  object\n",
      " 5   region_2     12217 non-null  object\n",
      " 6   variety      30186 non-null  object\n",
      " 7   winery       30186 non-null  object\n",
      "dtypes: object(8)\n",
      "memory usage: 1.8+ MB\n"
     ]
    }
   ],
   "source": [
    "X_eval.info()"
   ]
  },
  {
   "cell_type": "code",
   "execution_count": 12,
   "metadata": {},
   "outputs": [
    {
     "data": {
      "text/html": [
       "<div>\n",
       "<style scoped>\n",
       "    .dataframe tbody tr th:only-of-type {\n",
       "        vertical-align: middle;\n",
       "    }\n",
       "\n",
       "    .dataframe tbody tr th {\n",
       "        vertical-align: top;\n",
       "    }\n",
       "\n",
       "    .dataframe thead th {\n",
       "        text-align: right;\n",
       "    }\n",
       "</style>\n",
       "<table border=\"1\" class=\"dataframe\">\n",
       "  <thead>\n",
       "    <tr style=\"text-align: right;\">\n",
       "      <th></th>\n",
       "      <th>country</th>\n",
       "      <th>description</th>\n",
       "      <th>designation</th>\n",
       "      <th>province</th>\n",
       "      <th>region_1</th>\n",
       "      <th>region_2</th>\n",
       "      <th>variety</th>\n",
       "      <th>winery</th>\n",
       "      <th>quality</th>\n",
       "    </tr>\n",
       "  </thead>\n",
       "  <tbody>\n",
       "    <tr>\n",
       "      <th>0</th>\n",
       "      <td>France</td>\n",
       "      <td>A creamed pear wine, with an attractive tang o...</td>\n",
       "      <td>Brut Blanc de Blancs</td>\n",
       "      <td>Alsace</td>\n",
       "      <td>Crémant d'Alsace</td>\n",
       "      <td>NaN</td>\n",
       "      <td>Pinot Blanc</td>\n",
       "      <td>Lucien Albrecht</td>\n",
       "      <td>45.0</td>\n",
       "    </tr>\n",
       "    <tr>\n",
       "      <th>1</th>\n",
       "      <td>US</td>\n",
       "      <td>Simple and dry, this Cabernet has modest black...</td>\n",
       "      <td>NaN</td>\n",
       "      <td>California</td>\n",
       "      <td>Paso Robles</td>\n",
       "      <td>Central Coast</td>\n",
       "      <td>Cabernet Sauvignon</td>\n",
       "      <td>Castle Rock</td>\n",
       "      <td>31.0</td>\n",
       "    </tr>\n",
       "    <tr>\n",
       "      <th>2</th>\n",
       "      <td>US</td>\n",
       "      <td>This lovely wine captures the floral, perfumed...</td>\n",
       "      <td>NaN</td>\n",
       "      <td>Oregon</td>\n",
       "      <td>Willamette Valley</td>\n",
       "      <td>Willamette Valley</td>\n",
       "      <td>Gewürztraminer</td>\n",
       "      <td>Château Bianca</td>\n",
       "      <td>35.0</td>\n",
       "    </tr>\n",
       "    <tr>\n",
       "      <th>3</th>\n",
       "      <td>Portugal</td>\n",
       "      <td>The aromas are the thing here, as so often wit...</td>\n",
       "      <td>NaN</td>\n",
       "      <td>Alentejano</td>\n",
       "      <td>NaN</td>\n",
       "      <td>NaN</td>\n",
       "      <td>Touriga Nacional</td>\n",
       "      <td>Herdade do Esporão</td>\n",
       "      <td>41.0</td>\n",
       "    </tr>\n",
       "    <tr>\n",
       "      <th>4</th>\n",
       "      <td>Italy</td>\n",
       "      <td>This is an interesting, outright strange wine ...</td>\n",
       "      <td>Natì</td>\n",
       "      <td>Southern Italy</td>\n",
       "      <td>Pompeiano</td>\n",
       "      <td>NaN</td>\n",
       "      <td>Coda di Volpe</td>\n",
       "      <td>Sorrentino</td>\n",
       "      <td>37.0</td>\n",
       "    </tr>\n",
       "  </tbody>\n",
       "</table>\n",
       "</div>"
      ],
      "text/plain": [
       "    country                                        description  \\\n",
       "0    France  A creamed pear wine, with an attractive tang o...   \n",
       "1        US  Simple and dry, this Cabernet has modest black...   \n",
       "2        US  This lovely wine captures the floral, perfumed...   \n",
       "3  Portugal  The aromas are the thing here, as so often wit...   \n",
       "4     Italy  This is an interesting, outright strange wine ...   \n",
       "\n",
       "            designation        province           region_1           region_2  \\\n",
       "0  Brut Blanc de Blancs          Alsace   Crémant d'Alsace                NaN   \n",
       "1                   NaN      California        Paso Robles      Central Coast   \n",
       "2                   NaN          Oregon  Willamette Valley  Willamette Valley   \n",
       "3                   NaN      Alentejano                NaN                NaN   \n",
       "4                  Natì  Southern Italy          Pompeiano                NaN   \n",
       "\n",
       "              variety              winery  quality  \n",
       "0         Pinot Blanc     Lucien Albrecht     45.0  \n",
       "1  Cabernet Sauvignon         Castle Rock     31.0  \n",
       "2      Gewürztraminer      Château Bianca     35.0  \n",
       "3    Touriga Nacional  Herdade do Esporão     41.0  \n",
       "4       Coda di Volpe          Sorrentino     37.0  "
      ]
     },
     "execution_count": 12,
     "metadata": {},
     "output_type": "execute_result"
    }
   ],
   "source": [
    "X_dev.head()"
   ]
  },
  {
   "cell_type": "markdown",
   "metadata": {},
   "source": [
    "## Questions\n",
    "\n",
    "* What are the countries with more wines? And provinces? And Regions? \n",
    "* What are the average rates per country? And for designation? \n",
    "* What are the wines with the best and the worse quality? \n",
    "* What are the most used words for the description? \n",
    "* What is the length distribution for the description? "
   ]
  }
 ],
 "metadata": {
  "kernelspec": {
   "display_name": "FrancescoEnv",
   "language": "python",
   "name": "francescoenv"
  },
  "language_info": {
   "codemirror_mode": {
    "name": "ipython",
    "version": 3
   },
   "file_extension": ".py",
   "mimetype": "text/x-python",
   "name": "python",
   "nbconvert_exporter": "python",
   "pygments_lexer": "ipython3",
   "version": "3.7.7"
  }
 },
 "nbformat": 4,
 "nbformat_minor": 4
}
