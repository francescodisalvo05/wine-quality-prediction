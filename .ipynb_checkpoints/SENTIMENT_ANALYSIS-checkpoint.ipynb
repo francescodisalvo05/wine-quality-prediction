{
 "cells": [
  {
   "cell_type": "code",
   "execution_count": 2,
   "metadata": {},
   "outputs": [],
   "source": [
    "import matplotlib.pyplot as plt\n",
    "import seaborn as sns\n",
    "sns.set_style(\"whitegrid\")\n",
    "\n",
    "import pandas as pd\n",
    "import numpy as np\n",
    "\n",
    "from sklearn import datasets\n",
    "\n",
    "from sklearn.ensemble import RandomForestRegressor\n",
    "from sklearn.linear_model import LinearRegression, SGDRegressor\n",
    "\n",
    "from sklearn.model_selection import RepeatedKFold\n",
    "from sklearn.model_selection import cross_val_score\n",
    "from sklearn.model_selection import GridSearchCV\n",
    "\n",
    "from sklearn.metrics import accuracy_score, precision_score, recall_score\n",
    "from prettytable import PrettyTable\n",
    "\n",
    "from sklearn.preprocessing import OrdinalEncoder, OneHotEncoder\n",
    "from sklearn.decomposition import PCA\n",
    "from sklearn.impute import SimpleImputer \n",
    "import category_encoders\n",
    "\n",
    "from sklearn.preprocessing import OrdinalEncoder, OneHotEncoder, LabelEncoder, StandardScaler\n",
    "import category_encoders\n",
    "\n",
    "from sklearn.metrics import r2_score"
   ]
  },
  {
   "cell_type": "markdown",
   "metadata": {},
   "source": [
    "## PREPROCESSING"
   ]
  },
  {
   "cell_type": "code",
   "execution_count": 1,
   "metadata": {},
   "outputs": [],
   "source": [
    "def loadData(directory):\n",
    "    df = pd.read_csv(directory,sep=\"\\t\")\n",
    "    return df\n",
    "\n",
    "def getSentimentLabel(X): \n",
    "    median = np.median(X['quality'])\n",
    "    X['sentiment'] = X['quality'].apply(lambda x: 1 if x >= median else 0)\n",
    "    return X\n",
    "    \n",
    "## Label Encoder + Normalize\n",
    "def doPreproc(X_d,X_e,labels):\n",
    "    \n",
    "    X_d = X_d.fillna(\"nan\")\n",
    "    X_e = X_e.fillna(\"nan\")\n",
    "    df = pd.concat([X_d,X_e])\n",
    "    \n",
    "    for label in labels:\n",
    "        encoder = LabelEncoder()\n",
    "        scaler = StandardScaler()\n",
    "        \n",
    "        df[label] = encoder.fit_transform(df[label])\n",
    "        df[label] = scaler.fit_transform(np.array(df[label]).reshape(-1,1))\n",
    "        \n",
    "    \n",
    "    ev = df[df['quality'].isna()].drop(columns=['quality'])\n",
    "    dev = df.dropna(subset=['quality'])\n",
    "\n",
    "    return dev, ev"
   ]
  },
  {
   "cell_type": "code",
   "execution_count": 3,
   "metadata": {},
   "outputs": [],
   "source": [
    "## LOADING - ENCODING - SENTIMENT LABELING\n",
    "X_dev = loadData('Dataset/dev.tsv')\n",
    "X_eval = loadData('Dataset/eval.tsv')\n",
    "X_dev = X_dev.drop_duplicates()\n",
    "X_dev = X_dev.drop(columns=['region_2'])\n",
    "X_eval = X_eval.drop(columns=['region_2'])\n",
    "\n",
    "\n",
    "X_prep_v, X_eval_v = doPreproc(X_dev,X_eval,['country','province','variety',\n",
    "                                                  'winery','region_1','designation'])\n",
    "\n",
    "X_prep_v = getSentimentLabel(X_prep_v)"
   ]
  },
  {
   "cell_type": "code",
   "execution_count": 10,
   "metadata": {},
   "outputs": [
    {
     "data": {
      "text/html": [
       "<div>\n",
       "<style scoped>\n",
       "    .dataframe tbody tr th:only-of-type {\n",
       "        vertical-align: middle;\n",
       "    }\n",
       "\n",
       "    .dataframe tbody tr th {\n",
       "        vertical-align: top;\n",
       "    }\n",
       "\n",
       "    .dataframe thead th {\n",
       "        text-align: right;\n",
       "    }\n",
       "</style>\n",
       "<table border=\"1\" class=\"dataframe\">\n",
       "  <thead>\n",
       "    <tr style=\"text-align: right;\">\n",
       "      <th></th>\n",
       "      <th>country</th>\n",
       "      <th>description</th>\n",
       "      <th>designation</th>\n",
       "      <th>province</th>\n",
       "      <th>region_1</th>\n",
       "      <th>variety</th>\n",
       "      <th>winery</th>\n",
       "      <th>quality</th>\n",
       "    </tr>\n",
       "  </thead>\n",
       "  <tbody>\n",
       "    <tr>\n",
       "      <th>1118</th>\n",
       "      <td>France</td>\n",
       "      <td>Explosively rich and unctuous, this verges on ...</td>\n",
       "      <td>Le Méal</td>\n",
       "      <td>Rhône Valley</td>\n",
       "      <td>Hermitage</td>\n",
       "      <td>Marsanne</td>\n",
       "      <td>M. Chapoutier</td>\n",
       "      <td>75.0</td>\n",
       "    </tr>\n",
       "    <tr>\n",
       "      <th>1796</th>\n",
       "      <td>Australia</td>\n",
       "      <td>A single-vineyard wine that contains about 85%...</td>\n",
       "      <td>Exile</td>\n",
       "      <td>South Australia</td>\n",
       "      <td>Barossa Valley</td>\n",
       "      <td>Shiraz</td>\n",
       "      <td>The Colonial Estate</td>\n",
       "      <td>75.0</td>\n",
       "    </tr>\n",
       "    <tr>\n",
       "      <th>2715</th>\n",
       "      <td>Germany</td>\n",
       "      <td>Viscous, almost oily in texture, this is sever...</td>\n",
       "      <td>Wehlener Sonnenuhr Vat 10 Riesling Beerenauslese</td>\n",
       "      <td>Mosel-Saar-Ruwer</td>\n",
       "      <td>NaN</td>\n",
       "      <td>Riesling</td>\n",
       "      <td>S.A. Prüm</td>\n",
       "      <td>75.0</td>\n",
       "    </tr>\n",
       "    <tr>\n",
       "      <th>2811</th>\n",
       "      <td>Italy</td>\n",
       "      <td>From Angelo Gaja's beautiful estate in coastal...</td>\n",
       "      <td>Camarcanda</td>\n",
       "      <td>Tuscany</td>\n",
       "      <td>Bolgheri</td>\n",
       "      <td>Red Blend</td>\n",
       "      <td>Ca' Marcanda</td>\n",
       "      <td>75.0</td>\n",
       "    </tr>\n",
       "    <tr>\n",
       "      <th>3986</th>\n",
       "      <td>France</td>\n",
       "      <td>A glorious Champagne, now at the peak of its p...</td>\n",
       "      <td>Cuvée des Enchanteleurs Brut</td>\n",
       "      <td>Champagne</td>\n",
       "      <td>Champagne</td>\n",
       "      <td>Champagne Blend</td>\n",
       "      <td>Henriot</td>\n",
       "      <td>75.0</td>\n",
       "    </tr>\n",
       "    <tr>\n",
       "      <th>...</th>\n",
       "      <td>...</td>\n",
       "      <td>...</td>\n",
       "      <td>...</td>\n",
       "      <td>...</td>\n",
       "      <td>...</td>\n",
       "      <td>...</td>\n",
       "      <td>...</td>\n",
       "      <td>...</td>\n",
       "    </tr>\n",
       "    <tr>\n",
       "      <th>115082</th>\n",
       "      <td>France</td>\n",
       "      <td>Strength and elegance go together in this wine...</td>\n",
       "      <td>NaN</td>\n",
       "      <td>Bordeaux</td>\n",
       "      <td>Saint-Émilion</td>\n",
       "      <td>Bordeaux-style Red Blend</td>\n",
       "      <td>Château Ausone</td>\n",
       "      <td>75.0</td>\n",
       "    </tr>\n",
       "    <tr>\n",
       "      <th>116611</th>\n",
       "      <td>US</td>\n",
       "      <td>Rich and powerful, with a molten intensity, th...</td>\n",
       "      <td>Gravelly Meadow</td>\n",
       "      <td>California</td>\n",
       "      <td>Diamond Mountain District</td>\n",
       "      <td>Cabernet Sauvignon</td>\n",
       "      <td>Diamond Creek</td>\n",
       "      <td>75.0</td>\n",
       "    </tr>\n",
       "    <tr>\n",
       "      <th>118513</th>\n",
       "      <td>France</td>\n",
       "      <td>This is a powerful wine with complex structure...</td>\n",
       "      <td>NaN</td>\n",
       "      <td>Burgundy</td>\n",
       "      <td>Corton</td>\n",
       "      <td>Pinot Noir</td>\n",
       "      <td>Chanson Père et Fils</td>\n",
       "      <td>75.0</td>\n",
       "    </tr>\n",
       "    <tr>\n",
       "      <th>120189</th>\n",
       "      <td>France</td>\n",
       "      <td>96-98 Barrel sample. Ripe, sweet but also inte...</td>\n",
       "      <td>Barrel sample</td>\n",
       "      <td>Bordeaux</td>\n",
       "      <td>Saint-Julien</td>\n",
       "      <td>Bordeaux-style Red Blend</td>\n",
       "      <td>Château Léoville Barton</td>\n",
       "      <td>75.0</td>\n",
       "    </tr>\n",
       "    <tr>\n",
       "      <th>120610</th>\n",
       "      <td>US</td>\n",
       "      <td>Oaky. A bit backward, closed. Lots of primary ...</td>\n",
       "      <td>To Kalon Vineyard Reserve</td>\n",
       "      <td>California</td>\n",
       "      <td>Napa Valley</td>\n",
       "      <td>Cabernet Sauvignon</td>\n",
       "      <td>Robert Mondavi</td>\n",
       "      <td>75.0</td>\n",
       "    </tr>\n",
       "  </tbody>\n",
       "</table>\n",
       "<p>135 rows × 8 columns</p>\n",
       "</div>"
      ],
      "text/plain": [
       "          country                                        description  \\\n",
       "1118       France  Explosively rich and unctuous, this verges on ...   \n",
       "1796    Australia  A single-vineyard wine that contains about 85%...   \n",
       "2715      Germany  Viscous, almost oily in texture, this is sever...   \n",
       "2811        Italy  From Angelo Gaja's beautiful estate in coastal...   \n",
       "3986       France  A glorious Champagne, now at the peak of its p...   \n",
       "...           ...                                                ...   \n",
       "115082     France  Strength and elegance go together in this wine...   \n",
       "116611         US  Rich and powerful, with a molten intensity, th...   \n",
       "118513     France  This is a powerful wine with complex structure...   \n",
       "120189     France  96-98 Barrel sample. Ripe, sweet but also inte...   \n",
       "120610         US  Oaky. A bit backward, closed. Lots of primary ...   \n",
       "\n",
       "                                             designation          province  \\\n",
       "1118                                             Le Méal      Rhône Valley   \n",
       "1796                                               Exile   South Australia   \n",
       "2715    Wehlener Sonnenuhr Vat 10 Riesling Beerenauslese  Mosel-Saar-Ruwer   \n",
       "2811                                          Camarcanda           Tuscany   \n",
       "3986                        Cuvée des Enchanteleurs Brut         Champagne   \n",
       "...                                                  ...               ...   \n",
       "115082                                               NaN          Bordeaux   \n",
       "116611                                   Gravelly Meadow        California   \n",
       "118513                                               NaN          Burgundy   \n",
       "120189                                     Barrel sample          Bordeaux   \n",
       "120610                         To Kalon Vineyard Reserve        California   \n",
       "\n",
       "                         region_1                   variety  \\\n",
       "1118                    Hermitage                  Marsanne   \n",
       "1796               Barossa Valley                    Shiraz   \n",
       "2715                          NaN                  Riesling   \n",
       "2811                     Bolgheri                 Red Blend   \n",
       "3986                    Champagne           Champagne Blend   \n",
       "...                           ...                       ...   \n",
       "115082              Saint-Émilion  Bordeaux-style Red Blend   \n",
       "116611  Diamond Mountain District        Cabernet Sauvignon   \n",
       "118513                     Corton                Pinot Noir   \n",
       "120189               Saint-Julien  Bordeaux-style Red Blend   \n",
       "120610                Napa Valley        Cabernet Sauvignon   \n",
       "\n",
       "                         winery  quality  \n",
       "1118              M. Chapoutier     75.0  \n",
       "1796        The Colonial Estate     75.0  \n",
       "2715                  S.A. Prüm     75.0  \n",
       "2811               Ca' Marcanda     75.0  \n",
       "3986                    Henriot     75.0  \n",
       "...                         ...      ...  \n",
       "115082           Château Ausone     75.0  \n",
       "116611            Diamond Creek     75.0  \n",
       "118513     Chanson Père et Fils     75.0  \n",
       "120189  Château Léoville Barton     75.0  \n",
       "120610           Robert Mondavi     75.0  \n",
       "\n",
       "[135 rows x 8 columns]"
      ]
     },
     "execution_count": 10,
     "metadata": {},
     "output_type": "execute_result"
    }
   ],
   "source": [
    "X_dev[X_dev['quality'] == 75]"
   ]
  },
  {
   "cell_type": "markdown",
   "metadata": {},
   "source": [
    "## Sentiment Analysis"
   ]
  },
  {
   "cell_type": "code",
   "execution_count": 13,
   "metadata": {},
   "outputs": [],
   "source": [
    "from sklearn.feature_extraction.text import TfidfVectorizer\n",
    "from nltk.tokenize import word_tokenize\n",
    "from sklearn.model_selection import train_test_split, GridSearchCV\n",
    "from sklearn.feature_extraction.text import CountVectorizer\n",
    "from nltk.corpus import stopwords \n",
    "import Stemmer\n",
    "\n",
    "from sklearn.naive_bayes import MultinomialNB\n",
    "from sklearn.linear_model import LogisticRegression, SGDClassifier"
   ]
  },
  {
   "cell_type": "code",
   "execution_count": 16,
   "metadata": {},
   "outputs": [],
   "source": [
    "text = X_dev['description'][0]"
   ]
  },
  {
   "cell_type": "code",
   "execution_count": 17,
   "metadata": {},
   "outputs": [],
   "source": [
    "tokens_without_sw = [word for word in word_tokenize(text) if not word in stopwords.words()]"
   ]
  },
  {
   "cell_type": "code",
   "execution_count": 20,
   "metadata": {},
   "outputs": [
    {
     "data": {
      "text/plain": [
       "0.0"
      ]
     },
     "execution_count": 20,
     "metadata": {},
     "output_type": "execute_result"
    }
   ],
   "source": [
    "from textblob import TextBlob\n",
    "\n",
    "TextBlob(tokens_without_sw[0]).sentiment.polarity"
   ]
  },
  {
   "cell_type": "code",
   "execution_count": 28,
   "metadata": {},
   "outputs": [
    {
     "data": {
      "text/plain": [
       "-0.2"
      ]
     },
     "execution_count": 28,
     "metadata": {},
     "output_type": "execute_result"
    }
   ],
   "source": [
    "TextBlob('').sentiment.polarity"
   ]
  },
  {
   "cell_type": "code",
   "execution_count": 62,
   "metadata": {},
   "outputs": [],
   "source": [
    "def doMultinomialNB(x,y):\n",
    "    \n",
    "    model = MultinomialNB()\n",
    "    \n",
    "    parameters =  {\n",
    "        'alpha': np.linspace(0.5, 1.5, 6),\n",
    "        'fit_prior': [True, False]\n",
    "    }\n",
    "    \n",
    "    gs = GridSearchCV(estimator=model,  \n",
    "                         param_grid=parameters,\n",
    "                         scoring='accuracy',\n",
    "                         cv=5,\n",
    "                         n_jobs=-1)\n",
    "\n",
    "    gs.fit(x, y)\n",
    "    print(\"\\nMULTINOMIAL NB: \")\n",
    "    print(f\"Best parameters = {gs.best_params_}\")\n",
    "    print(f\"Best score = {gs.best_score_ }\")\n",
    "    \n",
    "    return gs"
   ]
  },
  {
   "cell_type": "code",
   "execution_count": 89,
   "metadata": {},
   "outputs": [],
   "source": [
    "def doSGDClassifier(x,y):\n",
    "    \n",
    "    model = SGDClassifier()\n",
    "    \n",
    "    params = {\n",
    "    \"loss\" : [\"hinge\", \"log\", \"squared_hinge\", \"modified_huber\"],\n",
    "    \"alpha\" : [0.0001, 0.001, 0.01, 0.1],\n",
    "    \"penalty\" : [\"l2\", \"l1\", \"none\"],\n",
    "}\n",
    "    \n",
    "    gs = GridSearchCV(   estimator=model,  \n",
    "                         param_grid=params,\n",
    "                         cv=5,\n",
    "                         n_jobs=-1)\n",
    "\n",
    "    gs.fit(x, y)\n",
    "    print(\"\\nSGDClassifier: \")\n",
    "    print(f\"Best parameters = {gs.best_params_}\")\n",
    "    print(f\"Best score = {gs.best_score_ }\")\n",
    "    \n",
    "    return gs"
   ]
  },
  {
   "cell_type": "code",
   "execution_count": 6,
   "metadata": {},
   "outputs": [],
   "source": [
    "X_descriptions = pd.concat([X_dev,X_eval])['description']\n",
    "y_sentiment_train = X_prep_v['sentiment']\n",
    "\n",
    "stop_words_list = sw.words('english') + [\"'d\", \"'ll\", \"'re\", \"'s\", \"'ve\", \n",
    "                                         'could', 'might', 'must', \"n't\", \n",
    "                                         'need', 'sha', 'wo', 'would']"
   ]
  },
  {
   "cell_type": "code",
   "execution_count": 168,
   "metadata": {},
   "outputs": [],
   "source": [
    "tfidf_naive = TfidfVectorizer(tokenizer=word_tokenize, token_pattern=None,ngram_range=(1,3))\n",
    "\n",
    "X_tfidf = tfidf_naive.fit_transform(X_descriptions)"
   ]
  },
  {
   "cell_type": "code",
   "execution_count": 169,
   "metadata": {},
   "outputs": [],
   "source": [
    "X_train, X_test, y_train, y_test = train_test_split(X_tfidf[:X_dev.shape[0]], y_sentiment_train, test_size=0.25, random_state=42)"
   ]
  },
  {
   "cell_type": "code",
   "execution_count": 170,
   "metadata": {},
   "outputs": [
    {
     "name": "stdout",
     "output_type": "stream",
     "text": [
      "0.7641718022298537\n"
     ]
    }
   ],
   "source": [
    "model = SGDClassifier(loss='squared_hinge')\n",
    "model.fit(X_train,y_train)\n",
    "y_pred = model.predict(X_test)\n",
    "print(accuracy_score(y_test,y_pred))"
   ]
  },
  {
   "cell_type": "code",
   "execution_count": 63,
   "metadata": {},
   "outputs": [
    {
     "name": "stdout",
     "output_type": "stream",
     "text": [
      "\n",
      "MULTINOMIAL NB: \n",
      "Best parameters = {'alpha': 0.5, 'fit_prior': False}\n",
      "Best score = 0.7513407167672769\n"
     ]
    }
   ],
   "source": [
    "gs = doMultinomialNB(X_tfidf[:X_dev.shape[0]], y_sentiment_train)"
   ]
  },
  {
   "cell_type": "code",
   "execution_count": 171,
   "metadata": {},
   "outputs": [
    {
     "name": "stdout",
     "output_type": "stream",
     "text": [
      "\n",
      "SGDClassifier: \n",
      "Best parameters = {'alpha': 0.0001, 'loss': 'modified_huber', 'penalty': 'l2'}\n",
      "Best score = 0.7682057884822842\n"
     ]
    }
   ],
   "source": [
    "from sklearn.linear_model import SGDClassifier\n",
    "\n",
    "gs_sgd = doSGDClassifier(X_tfidf[:X_dev.shape[0]], y_sentiment_train)"
   ]
  },
  {
   "cell_type": "markdown",
   "metadata": {},
   "source": [
    "## TEST"
   ]
  },
  {
   "cell_type": "code",
   "execution_count": 98,
   "metadata": {},
   "outputs": [],
   "source": [
    "y_sentiment_predicted = gs_sgd.predict(X_tfidf[X_dev.shape[0]:])"
   ]
  },
  {
   "cell_type": "code",
   "execution_count": 107,
   "metadata": {},
   "outputs": [],
   "source": [
    "X_eval_v['sentiment'] = y_sentiment_predicted\n",
    "X_eval_v = X_eval_v.drop(columns=['description'])\n",
    "X_prep_v = X_prep_v.drop(columns=['description'])"
   ]
  },
  {
   "cell_type": "code",
   "execution_count": null,
   "metadata": {},
   "outputs": [],
   "source": [
    "y = X_prep_v.quality\n",
    "X = X_prep_v.drop(columns=['quality'])"
   ]
  },
  {
   "cell_type": "code",
   "execution_count": 178,
   "metadata": {},
   "outputs": [],
   "source": [
    "X_train, X_test, y_train, y_test = train_test_split(X.drop(columns=['sentiment']),y, test_size=0.25, random_state=42)"
   ]
  },
  {
   "cell_type": "code",
   "execution_count": 180,
   "metadata": {},
   "outputs": [
    {
     "data": {
      "text/plain": [
       "((63771, 6), (21257, 6))"
      ]
     },
     "execution_count": 180,
     "metadata": {},
     "output_type": "execute_result"
    }
   ],
   "source": [
    "X_train.shape, X_test.shape"
   ]
  },
  {
   "cell_type": "code",
   "execution_count": 118,
   "metadata": {},
   "outputs": [
    {
     "data": {
      "text/plain": [
       "0.818034933223023"
      ]
     },
     "execution_count": 118,
     "metadata": {},
     "output_type": "execute_result"
    }
   ],
   "source": [
    "rf = RandomForestRegressor(max_features='sqrt', n_estimators=700)\n",
    "rf.fit(X_train,y_train)\n",
    "y_aa = rf.predict(X_test)\n",
    "r2_score(y_test,y_aa)"
   ]
  },
  {
   "cell_type": "code",
   "execution_count": 120,
   "metadata": {},
   "outputs": [],
   "source": [
    "def doGridSearch(model,model_name,hyperparams,X,y):\n",
    "    gs = GridSearchCV(estimator=model,  \n",
    "                         param_grid=hyperparams,\n",
    "                         scoring='r2',\n",
    "                         cv=5,\n",
    "                         n_jobs=4,\n",
    "                         verbose=True)\n",
    "\n",
    "    gs.fit(X, y)\n",
    "    return gs"
   ]
  },
  {
   "cell_type": "code",
   "execution_count": 121,
   "metadata": {},
   "outputs": [],
   "source": [
    "hyperparams_RF = {\n",
    "    \"n_estimators\": [500,700],\n",
    "    #\"criterion\": [\"mse\", \"mae\"],\n",
    "    \"max_features\": [\"auto\", \"sqrt\", \"log2\"],\n",
    "    \"random_state\": [42],# always use the samet random seed\n",
    "    \"n_jobs\": [4],# for parallelization\n",
    "}"
   ]
  },
  {
   "cell_type": "code",
   "execution_count": 122,
   "metadata": {},
   "outputs": [
    {
     "name": "stdout",
     "output_type": "stream",
     "text": [
      "Fitting 5 folds for each of 6 candidates, totalling 30 fits\n"
     ]
    },
    {
     "name": "stderr",
     "output_type": "stream",
     "text": [
      "[Parallel(n_jobs=4)]: Using backend LokyBackend with 4 concurrent workers.\n",
      "[Parallel(n_jobs=4)]: Done  30 out of  30 | elapsed:  8.7min finished\n",
      "[Parallel(n_jobs=4)]: Using backend ThreadingBackend with 4 concurrent workers.\n",
      "[Parallel(n_jobs=4)]: Done  42 tasks      | elapsed:    3.1s\n",
      "[Parallel(n_jobs=4)]: Done 192 tasks      | elapsed:   13.8s\n",
      "[Parallel(n_jobs=4)]: Done 442 tasks      | elapsed:   31.5s\n",
      "[Parallel(n_jobs=4)]: Done 700 out of 700 | elapsed:   49.7s finished\n"
     ]
    }
   ],
   "source": [
    "gs = doGridSearch(RandomForestRegressor(verbose=True), \"RandomForestRegressor\",hyperparams_RF,X,y)"
   ]
  },
  {
   "cell_type": "code",
   "execution_count": 123,
   "metadata": {},
   "outputs": [
    {
     "name": "stdout",
     "output_type": "stream",
     "text": [
      "Best params:\t{'max_features': 'auto', 'n_estimators': 700, 'n_jobs': 4, 'random_state': 42}\n",
      "Best score:\t0.829227777928935\n"
     ]
    }
   ],
   "source": [
    "print(f\"Best params:\\t{gs.best_params_}\")\n",
    "print(f\"Best score:\\t{gs.best_score_}\")"
   ]
  },
  {
   "cell_type": "code",
   "execution_count": 127,
   "metadata": {},
   "outputs": [
    {
     "name": "stderr",
     "output_type": "stream",
     "text": [
      "[Parallel(n_jobs=4)]: Using backend ThreadingBackend with 4 concurrent workers.\n",
      "[Parallel(n_jobs=4)]: Done  42 tasks      | elapsed:    0.1s\n",
      "[Parallel(n_jobs=4)]: Done 192 tasks      | elapsed:    0.6s\n",
      "[Parallel(n_jobs=4)]: Done 442 tasks      | elapsed:    1.4s\n",
      "[Parallel(n_jobs=4)]: Done 700 out of 700 | elapsed:    2.3s finished\n"
     ]
    }
   ],
   "source": [
    "y_pred = gs.predict(X_eval_v)"
   ]
  },
  {
   "cell_type": "code",
   "execution_count": 129,
   "metadata": {},
   "outputs": [],
   "source": [
    "def get_csv(ids, y):\n",
    "    pd.DataFrame(dict(Id = ids,Predicted = y)).to_csv(\"submission_sentiment.csv\",sep=\",\",index=False)"
   ]
  },
  {
   "cell_type": "code",
   "execution_count": 130,
   "metadata": {},
   "outputs": [],
   "source": [
    "get_csv(list(X_eval.index),y_pred)"
   ]
  },
  {
   "cell_type": "code",
   "execution_count": null,
   "metadata": {},
   "outputs": [],
   "source": [
    "### 0.702"
   ]
  },
  {
   "cell_type": "code",
   "execution_count": null,
   "metadata": {},
   "outputs": [],
   "source": []
  }
 ],
 "metadata": {
  "kernelspec": {
   "display_name": "Python 3",
   "language": "python",
   "name": "python3"
  },
  "language_info": {
   "codemirror_mode": {
    "name": "ipython",
    "version": 3
   },
   "file_extension": ".py",
   "mimetype": "text/x-python",
   "name": "python",
   "nbconvert_exporter": "python",
   "pygments_lexer": "ipython3",
   "version": "3.8.3"
  }
 },
 "nbformat": 4,
 "nbformat_minor": 4
}
