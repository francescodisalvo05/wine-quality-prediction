{
 "cells": [
  {
   "cell_type": "code",
   "execution_count": 4,
   "metadata": {},
   "outputs": [],
   "source": [
    "import matplotlib.pyplot as plt\n",
    "import seaborn as sns\n",
    "sns.set_style(\"whitegrid\")\n",
    "\n",
    "import pandas as pd\n",
    "import numpy as np\n",
    "\n",
    "from sklearn import datasets\n",
    "\n",
    "from sklearn.ensemble import RandomForestRegressor\n",
    "from sklearn.linear_model import LinearRegression, SGDRegressor\n",
    "\n",
    "from sklearn.model_selection import RepeatedKFold\n",
    "from sklearn.model_selection import cross_val_score\n",
    "from sklearn.model_selection import GridSearchCV\n",
    "\n",
    "from sklearn.metrics import accuracy_score, precision_score, recall_score\n",
    "from prettytable import PrettyTable\n",
    "\n",
    "from sklearn.preprocessing import OrdinalEncoder, OneHotEncoder\n",
    "from sklearn.decomposition import PCA\n",
    "from sklearn.impute import SimpleImputer \n",
    "import category_encoders\n",
    "\n",
    "from sklearn.metrics import r2_score"
   ]
  },
  {
   "cell_type": "markdown",
   "metadata": {},
   "source": [
    "## PREPROCESSING"
   ]
  },
  {
   "cell_type": "code",
   "execution_count": 8,
   "metadata": {},
   "outputs": [],
   "source": [
    "def loadData(directory):\n",
    "    df = pd.read_csv(directory,sep=\"\\t\")\n",
    "    return df\n",
    "\n",
    "def getSentimentLabel(X): \n",
    "    avg = np.mean(X['quality'])\n",
    "    X['sentiment'] = X['quality'].apply(lambda x: np.min([2,int(x/30)]))\n",
    "    \n",
    "    return X\n",
    "    \n",
    "## BinatyEncoding\n",
    "def doPreproc(X_d,X_e,labels):\n",
    "       \n",
    "    df = pd.concat([X_d,X_e])\n",
    "\n",
    "    encoder = category_encoders.BinaryEncoder(cols=labels)\n",
    "    df = encoder.fit_transform(df)\n",
    "    \n",
    "    ev = df[df['quality'].isna()].drop(columns=['quality'])\n",
    "    dev = df.dropna(subset=['quality'])\n",
    "\n",
    "    return dev, ev"
   ]
  },
  {
   "cell_type": "code",
   "execution_count": 9,
   "metadata": {},
   "outputs": [],
   "source": [
    "## LOADING - ENCODING - SENTIMENT LABELING\n",
    "X_dev = loadData('Dataset/dev.tsv')\n",
    "X_eval = loadData('Dataset/eval.tsv')\n",
    "X_dev = X_dev.drop_duplicates()\n",
    "X_dev = X_dev.drop(columns=['region_2'])\n",
    "X_eval = X_eval.drop(columns=['region_2'])\n",
    "\n",
    "\n",
    "X_prep_v, X_eval_v = doPreproc(X_dev,X_eval,['country','province','variety',\n",
    "                                                  'winery','region_1','designation'])\n",
    "\n",
    "X_prep_v = getSentimentLabel(X_prep_v)"
   ]
  },
  {
   "cell_type": "markdown",
   "metadata": {},
   "source": [
    "## Sentiment Analysis"
   ]
  },
  {
   "cell_type": "code",
   "execution_count": 7,
   "metadata": {},
   "outputs": [],
   "source": [
    "from sklearn.feature_extraction.text import TfidfVectorizer\n",
    "from nltk.tokenize import word_tokenize\n",
    "from sklearn.model_selection import train_test_split, GridSearchCV\n",
    "from sklearn.feature_extraction.text import CountVectorizer\n",
    "from nltk.corpus import stopwords as sw\n",
    "import Stemmer\n",
    "\n",
    "from sklearn.naive_bayes import MultinomialNB\n",
    "from sklearn.linear_model import LogisticRegression, SGDClassifier"
   ]
  },
  {
   "cell_type": "code",
   "execution_count": 20,
   "metadata": {},
   "outputs": [],
   "source": [
    "X_descriptions = pd.concat([X_dev,X_eval])['description']\n",
    "y_sentiment_train = X_prep_v['sentiment']\n",
    "\n",
    "stop_words_list = sw.words('english') + [\"'d\", \"'ll\", \"'re\", \"'s\", \"'ve\", \n",
    "                                         'could', 'might', 'must', \"n't\", \n",
    "                                         'need', 'sha', 'wo', 'would']"
   ]
  },
  {
   "cell_type": "code",
   "execution_count": 21,
   "metadata": {},
   "outputs": [],
   "source": [
    "tfidf_naive = TfidfVectorizer(tokenizer=word_tokenize, token_pattern=None, \n",
    "                              stop_words=stop_words_list, ngram_range=(1,2))\n",
    "\n",
    "X_tfidf = tfidf_naive.fit_transform(X_sentiment)"
   ]
  },
  {
   "cell_type": "code",
   "execution_count": 23,
   "metadata": {},
   "outputs": [],
   "source": [
    "X_train, X_test, y_train, y_test = train_test_split(X_tfidf[:X_dev.shape[0]], y_sentiment_train, test_size=0.25, random_state=42)"
   ]
  },
  {
   "cell_type": "code",
   "execution_count": null,
   "metadata": {},
   "outputs": [],
   "source": [
    "model = SGDClassifier()\n",
    "model.fit(X_train,y_train)\n",
    "y_pred = model.predict(X_test)\n",
    "print(accuracy_score(y_test,y_pred))"
   ]
  },
  {
   "cell_type": "code",
   "execution_count": 26,
   "metadata": {},
   "outputs": [
    {
     "name": "stdout",
     "output_type": "stream",
     "text": [
      "0.7520346238886014\n"
     ]
    }
   ],
   "source": [
    "from sklearn.neighbors import KNeighborsClassifier\n",
    "\n",
    "knn = KNeighborsClassifier()\n",
    "knn.fit(X_train,y_train)\n",
    "y_pred_knn = knn.predict(X_test)\n",
    "\n",
    "print(accuracy_score(y_test,y_pred_knn))"
   ]
  },
  {
   "cell_type": "code",
   "execution_count": null,
   "metadata": {},
   "outputs": [],
   "source": [
    "knn = KNeighborsClassifier(weights='distance')\n",
    "knn.fit(X_train,y_train)\n",
    "y_pred_knn2 = knn.predict(X_test)\n",
    "\n",
    "print(accuracy_score(y_test,y_pred_knn2))"
   ]
  },
  {
   "cell_type": "code",
   "execution_count": null,
   "metadata": {},
   "outputs": [],
   "source": [
    "from sklearn.svm import SVC\n",
    "\n",
    "svc = SVC()\n",
    "svc.fit(X_train,y_train)\n",
    "y_pred_svc = svc.predict(X_test)\n",
    "\n",
    "print(accuracy_score(y_test,y_pred_svc))"
   ]
  },
  {
   "cell_type": "code",
   "execution_count": null,
   "metadata": {},
   "outputs": [],
   "source": [
    "### \n",
    "def getSentimentLabelV2(X): \n",
    "    avg = np.mean(X['quality'])\n",
    "    X['sentiment'] = X['quality'].apply(lambda x: 1 if x >= avg else 0)\n",
    "    \n",
    "    return X\n",
    "\n",
    "y_sentiment_01 = getSentimentLabel(X_prep_v)['sentiment']\n",
    "\n",
    "X_train2, X_test2, y_train2, y_test2 = train_test_split(X_tfidf[:X_dev.shape[0]], y_sentiment_01, test_size=0.25, random_state=42)"
   ]
  },
  {
   "cell_type": "code",
   "execution_count": null,
   "metadata": {},
   "outputs": [],
   "source": [
    "from sklearn.neighbors import KNeighborsClassifier\n",
    "\n",
    "knn_01 = KNeighborsClassifier()\n",
    "knn_01.fit(X_train,y_train)\n",
    "y_pred_knn01 = knn_01.predict(X_test)\n",
    "\n",
    "print(accuracy_score(y_test,y_pred_knn01))"
   ]
  }
 ],
 "metadata": {
  "kernelspec": {
   "display_name": "Python 3",
   "language": "python",
   "name": "python3"
  },
  "language_info": {
   "codemirror_mode": {
    "name": "ipython",
    "version": 3
   },
   "file_extension": ".py",
   "mimetype": "text/x-python",
   "name": "python",
   "nbconvert_exporter": "python",
   "pygments_lexer": "ipython3",
   "version": "3.8.3"
  }
 },
 "nbformat": 4,
 "nbformat_minor": 4
}
