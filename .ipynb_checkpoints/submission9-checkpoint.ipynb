{
 "cells": [
  {
   "cell_type": "code",
   "execution_count": 1,
   "metadata": {},
   "outputs": [],
   "source": [
    "import matplotlib.pyplot as plt\n",
    "import seaborn as sns\n",
    "sns.set_style(\"whitegrid\")\n",
    "\n",
    "import pandas as pd\n",
    "import numpy as np\n",
    "\n",
    "from sklearn import datasets\n",
    "\n",
    "from sklearn.ensemble import RandomForestRegressor\n",
    "from sklearn.linear_model import LinearRegression, SGDRegressor\n",
    "\n",
    "from sklearn.model_selection import RepeatedKFold\n",
    "from sklearn.model_selection import cross_val_score\n",
    "from sklearn.model_selection import GridSearchCV\n",
    "\n",
    "from sklearn.metrics import accuracy_score, precision_score, recall_score\n",
    "from prettytable import PrettyTable\n",
    "\n",
    "from sklearn.preprocessing import OrdinalEncoder, OneHotEncoder, LabelEncoder, StandardScaler\n",
    "import category_encoders"
   ]
  },
  {
   "cell_type": "code",
   "execution_count": 171,
   "metadata": {},
   "outputs": [],
   "source": [
    "def loadData(directory):\n",
    "    df = pd.read_csv(directory,sep=\"\\t\")\n",
    "    return df\n",
    "\n",
    "## Hash + Normalize\n",
    "def doPreproc(X_d,X_e,labels):\n",
    "    X_d = X_d.fillna(\"nan\")\n",
    "    X_e = X_e.fillna(\"nan\")\n",
    "    df = pd.concat([X_d,X_e])\n",
    "    \n",
    "    for label in labels:\n",
    "        df[label] = df.apply(lambda x : hash(x[label]),axis=1)\n",
    "        scaler = StandardScaler()\n",
    "        df[label] = scaler.fit_transform(np.array(df[label]).reshape(-1,1))\n",
    "    \n",
    "    \n",
    "    ev = df[df['quality'].isna()].drop(columns=['quality'])\n",
    "    dev = df.dropna(subset=['quality'])\n",
    "\n",
    "    return dev, ev\n",
    "# Hash + No - Normalize\n",
    "def doPreprocV2(X_d,X_e,labels):\n",
    "    X_d = X_d.fillna(\"nan\")\n",
    "    X_e = X_e.fillna(\"nan\")\n",
    "    df = pd.concat([X_d,X_e])\n",
    "    \n",
    "    for label in labels:\n",
    "        df[label] = df.apply(lambda x : hash(x[label]),axis=1)\n",
    "    \n",
    "    ev = df[df['quality'].isna()].drop(columns=['quality'])\n",
    "    dev = df.dropna(subset=['quality'])\n",
    "\n",
    "    return dev, ev\n",
    "\n",
    "# BINARY ENCODING\n",
    "def doPreprocV3(X_d,X_e,labels):\n",
    "    \n",
    "        \n",
    "    df = pd.concat([X_d,X_e])\n",
    "\n",
    "    encoder = category_encoders.BinaryEncoder(cols=labels)\n",
    "    df = encoder.fit_transform(df)\n",
    "    \n",
    "    ev = df[df['quality'].isna()].drop(columns=['quality'])\n",
    "    dev = df.dropna(subset=['quality'])\n",
    "\n",
    "    return dev, ev\n",
    "\n",
    "def doPreprocV4(X_d,X_e,labels):\n",
    "    \n",
    "    X_d = X_d.fillna(\"nan\")\n",
    "    X_e = X_e.fillna(\"nan\")\n",
    "    df = pd.concat([X_d,X_e])\n",
    "    \n",
    "    for label in labels:\n",
    "        encoder = LabelEncoder()\n",
    "        scaler = StandardScaler()\n",
    "        \n",
    "        df[label] = encoder.fit_transform(df[label])\n",
    "        df[label] = scaler.fit_transform(np.array(df[label]).reshape(-1,1))\n",
    "        \n",
    "    \n",
    "    ev = df[df['quality'].isna()].drop(columns=['quality'])\n",
    "    dev = df.dropna(subset=['quality'])\n",
    "\n",
    "    return dev, ev\n",
    "\n",
    "def doPreprocV5(X_d,X_e,labels):\n",
    "    \n",
    "    X_d = X_d.fillna(\"nan\")\n",
    "    X_e = X_e.fillna(\"nan\")\n",
    "    df = pd.concat([X_d,X_e])\n",
    "    \n",
    "    for label in labels:\n",
    "        encoder = LabelEncoder()\n",
    "        \n",
    "        df[label] = encoder.fit_transform(df[label])\n",
    "    \n",
    "    ev = df[df['quality'].isna()].drop(columns=['quality'])\n",
    "    dev = df.dropna(subset=['quality'])\n",
    "\n",
    "    return dev, ev\n",
    "\n",
    "from sklearn.preprocessing import MinMaxScaler\n",
    "def doPreprocV6(X_d,X_e,labels):\n",
    "    \n",
    "    X_d = X_d.fillna(\"nan\")\n",
    "    X_e = X_e.fillna(\"nan\")\n",
    "    df = pd.concat([X_d,X_e])\n",
    "    \n",
    "    # scale 0/1\n",
    "    min_max_scaler = MinMaxScaler()\n",
    "    \n",
    "    for label in labels:\n",
    "        encoder = LabelEncoder()\n",
    "        \n",
    "        df[label] = encoder.fit_transform(df[label])\n",
    "        df[label] = min_max_scaler.fit_transform(np.array(df[label]).reshape(-1,1))\n",
    "    \n",
    "    ev = df[df['quality'].isna()].drop(columns=['quality'])\n",
    "    dev = df.dropna(subset=['quality'])\n",
    "\n",
    "    return dev, ev\n",
    "\n",
    "def doPreprocV7(X_d,X_e,labels):\n",
    "    \n",
    "    X_d = X_d.fillna(\"nan\")\n",
    "    X_e = X_e.fillna(\"nan\")\n",
    "    df = pd.concat([X_d,X_e])\n",
    "    \n",
    "    # scale 0/1\n",
    "    min_max_scaler = MinMaxScaler(feature_range=(-1,1))\n",
    "    \n",
    "    for label in labels:\n",
    "        encoder = LabelEncoder()\n",
    "        \n",
    "        df[label] = encoder.fit_transform(df[label])\n",
    "        df[label] = min_max_scaler.fit_transform(np.array(df[label]).reshape(-1,1))\n",
    "    \n",
    "    ev = df[df['quality'].isna()].drop(columns=['quality'])\n",
    "    dev = df.dropna(subset=['quality'])\n",
    "\n",
    "    return dev, ev\n",
    "\n",
    "def doPreprocV8(X_d,X_e,labels):\n",
    "    \n",
    "    X_d = X_d.fillna(\"nan\")\n",
    "    X_e = X_e.fillna(\"nan\")\n",
    "    df = pd.concat([X_d,X_e])\n",
    "    \n",
    "    # scale -1/1\n",
    "    min_max_scaler = MinMaxScaler(feature_range=(-1,1))\n",
    "    \n",
    "    for label in labels:\n",
    "        encoder = LabelEncoder()\n",
    "        \n",
    "        encoder.fit(df[label])\n",
    "        \n",
    "        df[label] = encoder.transform(df[label])\n",
    "        df[label] = min_max_scaler.fit_transform(np.array(df[label]).reshape(-1,1))\n",
    "    \n",
    "    ev = df[df['quality'].isna()].drop(columns=['quality'])\n",
    "    dev = df.dropna(subset=['quality'])\n",
    "\n",
    "    return dev, ev"
   ]
  },
  {
   "cell_type": "code",
   "execution_count": 50,
   "metadata": {},
   "outputs": [],
   "source": [
    "X_dev = loadData('Dataset/dev.tsv')\n",
    "X_eval = loadData('Dataset/eval.tsv')\n",
    "\n",
    "X_dev = X_dev.drop(columns=['description','region_2'])\n",
    "X_eval = X_eval.drop(columns=['description','region_2'])"
   ]
  },
  {
   "cell_type": "code",
   "execution_count": 4,
   "metadata": {},
   "outputs": [],
   "source": [
    "## 1\n",
    "X_dev_prep, X_eval_prep = doPreproc(X_dev,X_eval,['country','province','variety',\n",
    "                                                'winery','region_1','designation'])\n",
    "y = X_dev_prep.quality\n",
    "X = X_dev_prep.drop(columns=['quality'])"
   ]
  },
  {
   "cell_type": "code",
   "execution_count": 5,
   "metadata": {},
   "outputs": [],
   "source": [
    "## 2\n",
    "X_dev_prep_2, X_eval_prep_2 = doPreprocV2(X_dev,X_eval,['country','province','variety',\n",
    "                                                'winery','region_1','designation'])\n",
    "y_2 = X_dev_prep_2.quality\n",
    "X_2 = X_dev_prep_2.drop(columns=['quality'])"
   ]
  },
  {
   "cell_type": "code",
   "execution_count": 5,
   "metadata": {},
   "outputs": [],
   "source": [
    "## 3\n",
    "X_dev_prep_3, X_eval_prep_3 = doPreprocV3(X_dev,X_eval,['country','province','variety',\n",
    "                                                'winery','region_1','designation'])\n",
    "y_3 = X_dev_prep_3.quality\n",
    "X_3 = X_dev_prep_3.drop(columns=['quality'])"
   ]
  },
  {
   "cell_type": "code",
   "execution_count": 172,
   "metadata": {},
   "outputs": [],
   "source": [
    "## 4\n",
    "X_dev_prep_4, X_eval_prep_4 = doPreprocV4(X_dev,X_eval,['country','province','variety',\n",
    "                                                'winery','region_1','designation'])\n",
    "y_4 = X_dev_prep_4.quality\n",
    "X_4 = X_dev_prep_4.drop(columns=['quality'])"
   ]
  },
  {
   "cell_type": "code",
   "execution_count": 8,
   "metadata": {},
   "outputs": [],
   "source": [
    "## 5\n",
    "X_dev_prep_5, X_eval_prep_5 = doPreprocV5(X_dev,X_eval,['country','province','variety',\n",
    "                                                'winery','region_1','designation'])\n",
    "y_5 = X_dev_prep_5.quality\n",
    "X_5 = X_dev_prep_5.drop(columns=['quality'])"
   ]
  },
  {
   "cell_type": "code",
   "execution_count": 26,
   "metadata": {},
   "outputs": [],
   "source": [
    "## 6\n",
    "X_dev_prep_6, X_eval_prep_6 = doPreprocV6(X_dev,X_eval,['country','province','variety',\n",
    "                                                'winery','region_1','designation'])\n",
    "y_6 = X_dev_prep_6.quality\n",
    "X_6 = X_dev_prep_6.drop(columns=['quality'])"
   ]
  },
  {
   "cell_type": "code",
   "execution_count": 33,
   "metadata": {},
   "outputs": [],
   "source": [
    "## 7\n",
    "X_dev_prep_7, X_eval_prep_7 = doPreprocV7(X_dev,X_eval,['country','province','variety',\n",
    "                                                'winery','region_1','designation'])\n",
    "y_7 = X_dev_prep_7.quality\n",
    "X_7 = X_dev_prep_7.drop(columns=['quality'])"
   ]
  },
  {
   "cell_type": "code",
   "execution_count": 163,
   "metadata": {},
   "outputs": [],
   "source": [
    "## FORSE HO TROVATO LA SOLUZIONE DEFINITIVA\n",
    "from sklearn.utils import column_or_1d\n",
    "class MyLabelEncoder(LabelEncoder):\n",
    "\n",
    "    def fit(self, y):\n",
    "        y = column_or_1d(y, warn=True)\n",
    "        self.classes_ = pd.Series(y).unique()\n",
    "        return self\n",
    "    \n",
    "#le = MyLabelEncoder()\n",
    "#le.fit(test.value_counts().index[::-1])\n",
    "#le.classes_\n",
    "\n",
    "def doPreprocVFORSEFINAL(X_d,X_e,labels):\n",
    "    ## CHECK ISSUES WITH NAN\n",
    "    X_d = X_d.fillna(\"nan\")\n",
    "    X_e = X_e.fillna(\"nan\")\n",
    "    df = pd.concat([X_d,X_e])\n",
    "\n",
    "    for label in labels:\n",
    "        \n",
    "        encoder = MyLabelEncoder()\n",
    "        min_max_scaler = MinMaxScaler()\n",
    "        \n",
    "        encoder.fit(df[label].value_counts().index[::-1])\n",
    "        \n",
    "        df[label] = encoder.transform(df[label])\n",
    "        df[label] = min_max_scaler.fit_transform(np.array(df[label]).reshape(-1,1))\n",
    "    \n",
    "    ev = df[df['quality'].isna()].drop(columns=['quality'])\n",
    "    dev = df.dropna(subset=['quality'])\n",
    "\n",
    "    return dev, ev\n",
    "\n",
    "def doPreprocVFORSEFINAL2(X_d,X_e,labels):\n",
    "    ## CHECK ISSUES WITH NAN\n",
    "    X_d = X_d.fillna(\"nan\")\n",
    "    X_e = X_e.fillna(\"nan\")\n",
    "    df = pd.concat([X_d,X_e])\n",
    "\n",
    "    for label in labels:\n",
    "        \n",
    "        encoder = MyLabelEncoder()\n",
    "        standard_scaler = StandardScaler()\n",
    "        \n",
    "        encoder.fit(df[label].value_counts().index[::-1])\n",
    "        \n",
    "        df[label] = encoder.transform(df[label])\n",
    "        df[label] = standard_scaler.fit_transform(np.array(df[label]).reshape(-1,1))\n",
    "    \n",
    "    ev = df[df['quality'].isna()].drop(columns=['quality'])\n",
    "    dev = df.dropna(subset=['quality'])\n",
    "\n",
    "    return dev, ev"
   ]
  },
  {
   "cell_type": "code",
   "execution_count": 158,
   "metadata": {},
   "outputs": [],
   "source": [
    "X_dev_prep_final, X_eval_prep_final = doPreprocVFORSEFINAL(X_dev,X_eval,['country','province','variety',\n",
    "                                                'winery','region_1','designation'])\n",
    "y_final = X_dev_prep_final.quality\n",
    "X_final = X_dev_prep_final.drop(columns=['quality'])"
   ]
  },
  {
   "cell_type": "code",
   "execution_count": 164,
   "metadata": {},
   "outputs": [],
   "source": [
    "X_dev_prep_final2, X_eval_prep_final2 = doPreprocVFORSEFINAL(X_dev,X_eval,['country','province','variety',\n",
    "                                                'winery','region_1','designation'])\n",
    "y_final2 = X_dev_prep_final2.quality\n",
    "X_final2 = X_dev_prep_final2.drop(columns=['quality'])"
   ]
  },
  {
   "cell_type": "code",
   "execution_count": 160,
   "metadata": {},
   "outputs": [
    {
     "data": {
      "text/plain": [
       "Text(0, 0.5, 'R2_Score')"
      ]
     },
     "execution_count": 160,
     "metadata": {},
     "output_type": "execute_result"
    },
    {
     "data": {
      "image/png": "[encoded data removed]",
      "text/plain": [
       "<Figure size 432x288 with 1 Axes>"
      ]
     },
     "metadata": {},
     "output_type": "display_data"
    }
   ],
   "source": [
    "models = [RandomForestRegressor()]\n",
    "scores = evaluateModels(models,targets,X_final,y_final)\n",
    "sns.boxplot(x=\"variable\", y=\"value\", data=pd.melt(scores))\n",
    "plt.xlabel(\"Model\")\n",
    "plt.ylabel(\"R2_Score\")"
   ]
  },
  {
   "cell_type": "code",
   "execution_count": 165,
   "metadata": {},
   "outputs": [
    {
     "data": {
      "text/plain": [
       "Text(0, 0.5, 'R2_Score')"
      ]
     },
     "execution_count": 165,
     "metadata": {},
     "output_type": "execute_result"
    },
    {
     "data": {
      "image/png": "[encoded data removed]",
      "text/plain": [
       "<Figure size 432x288 with 1 Axes>"
      ]
     },
     "metadata": {},
     "output_type": "display_data"
    }
   ],
   "source": [
    "models = [RandomForestRegressor()]\n",
    "scores = evaluateModels(models,targets,X_final2,y_final2)\n",
    "sns.boxplot(x=\"variable\", y=\"value\", data=pd.melt(scores))\n",
    "plt.xlabel(\"Model\")\n",
    "plt.ylabel(\"R2_Score\")"
   ]
  },
  {
   "cell_type": "code",
   "execution_count": 161,
   "metadata": {},
   "outputs": [
    {
     "data": {
      "text/plain": [
       "Text(0, 0.5, 'R2_Score')"
      ]
     },
     "execution_count": 161,
     "metadata": {},
     "output_type": "execute_result"
    },
    {
     "data": {
      "image/png": "[encoded data removed]",
      "text/plain": [
       "<Figure size 432x288 with 1 Axes>"
      ]
     },
     "metadata": {},
     "output_type": "display_data"
    }
   ],
   "source": [
    "sns.boxplot(x=\"variable\", y=\"value\", data=pd.melt(scores))\n",
    "plt.xlabel(\"Model\")\n",
    "plt.ylabel(\"R2_Score\")"
   ]
  },
  {
   "cell_type": "markdown",
   "metadata": {},
   "source": [
    "## Model selection\n",
    "\\# -- specificare la misura di riferimento (accuracy o altro) <br /><br />\n",
    "In order to tune the best models, we tested #tot different classifiers with their default hyperparameters through the Repeated K-Fold Cross Validation. This gives a more “robust” model assessment score rather than the fairly well known K-Fold Cross Validation, because it run several times. In this case we used 5 folds and 10 ierations. The algorithms that we tested are: \n",
    "- **\n",
    "- **\n",
    "\n",
    "The output of the the Cross Validation phase can be clearly seen in Figure # . So we decided to tune the \\\\ and the \\\\ classifiers trough the Grid Search, as explained in the next section. "
   ]
  },
  {
   "cell_type": "code",
   "execution_count": 25,
   "metadata": {},
   "outputs": [],
   "source": [
    "from sklearn.preprocessing import PolynomialFeatures\n",
    "from sklearn.pipeline import make_pipeline\n",
    "\n",
    "randomforest = RandomForestRegressor()\n",
    "linearregression = LinearRegression()\n",
    "sgd = SGDRegressor()\n",
    "\n",
    "#polynomialregression = make_pipeline(PolynomialFeatures(10), LinearRegression())\n",
    "#polynomialregression.fit(X, y)\n",
    "\n",
    "\n",
    "models = [randomforest]\n",
    "targets = [\"RandomForest\"]"
   ]
  },
  {
   "cell_type": "code",
   "execution_count": 24,
   "metadata": {},
   "outputs": [],
   "source": [
    "def evaluateModels(models, targets,X,y):\n",
    "    \n",
    "    scores = pd.DataFrame()\n",
    "    \n",
    "    for model,target in zip(models,targets):\n",
    "        cv = RepeatedKFold(n_splits=3, n_repeats=1, random_state=42)\n",
    "        scores[target] = cross_val_score(model, X, y, scoring='r2', cv=cv, n_jobs=-1)\n",
    "        \n",
    "    return scores"
   ]
  },
  {
   "cell_type": "code",
   "execution_count": 21,
   "metadata": {},
   "outputs": [
    {
     "data": {
      "text/plain": [
       "Text(0, 0.5, 'R2_Score')"
      ]
     },
     "execution_count": 21,
     "metadata": {},
     "output_type": "execute_result"
    },
    {
     "data": {
      "image/png": "[encoded data removed]",
      "text/plain": [
       "<Figure size 432x288 with 1 Axes>"
      ]
     },
     "metadata": {},
     "output_type": "display_data"
    }
   ],
   "source": [
    "## HASH AND NORMALIZATION \n",
    "models_3 = [RandomForestRegressor()]\n",
    "scores_3 = evaluateModels(models_3,targets,X,y)\n",
    "sns.boxplot(x=\"variable\", y=\"value\", data=pd.melt(scores_3))\n",
    "plt.xlabel(\"Model\")\n",
    "plt.ylabel(\"R2_Score\")"
   ]
  },
  {
   "cell_type": "code",
   "execution_count": 22,
   "metadata": {},
   "outputs": [
    {
     "data": {
      "text/plain": [
       "Text(0, 0.5, 'R2_Score')"
      ]
     },
     "execution_count": 22,
     "metadata": {},
     "output_type": "execute_result"
    },
    {
     "data": {
      "image/png": "[encoded data removed]",
      "text/plain": [
       "<Figure size 432x288 with 1 Axes>"
      ]
     },
     "metadata": {},
     "output_type": "display_data"
    }
   ],
   "source": [
    "## HASH WITHOUT NORMALIZATION \n",
    "models_3 = [RandomForestRegressor()]\n",
    "scores_3 = evaluateModels(models_3,targets,X_2,y_2)\n",
    "sns.boxplot(x=\"variable\", y=\"value\", data=pd.melt(scores_3))\n",
    "plt.xlabel(\"Model\")\n",
    "plt.ylabel(\"R2_Score\")"
   ]
  },
  {
   "cell_type": "code",
   "execution_count": 14,
   "metadata": {},
   "outputs": [
    {
     "data": {
      "text/plain": [
       "Text(0, 0.5, 'R2_Score')"
      ]
     },
     "execution_count": 14,
     "metadata": {},
     "output_type": "execute_result"
    },
    {
     "data": {
      "image/png": "[encoded data removed]",
      "text/plain": [
       "<Figure size 432x288 with 1 Axes>"
      ]
     },
     "metadata": {},
     "output_type": "display_data"
    }
   ],
   "source": [
    "## BINARY ENCODING\n",
    "models_3 = [RandomForestRegressor()]\n",
    "scores_3 = evaluateModels(models_3,targets,X_3,y_3)\n",
    "sns.boxplot(x=\"variable\", y=\"value\", data=pd.melt(scores_3))\n",
    "plt.xlabel(\"Model\")\n",
    "plt.ylabel(\"R2_Score\")"
   ]
  },
  {
   "cell_type": "code",
   "execution_count": 174,
   "metadata": {},
   "outputs": [
    {
     "data": {
      "text/plain": [
       "Text(0, 0.5, 'R2_Score')"
      ]
     },
     "execution_count": 174,
     "metadata": {},
     "output_type": "execute_result"
    },
    {
     "data": {
      "image/png": "[encoded data removed]",
      "text/plain": [
       "<Figure size 432x288 with 1 Axes>"
      ]
     },
     "metadata": {},
     "output_type": "display_data"
    }
   ],
   "source": [
    "## LABELENCODING + NORMALIZATION\n",
    "models_3 = [RandomForestRegressor()]\n",
    "scores_3 = evaluateModels(models_3,targets,X_4,y_4)\n",
    "sns.boxplot(x=\"variable\", y=\"value\", data=pd.melt(scores_3))\n",
    "plt.xlabel(\"Model\")\n",
    "plt.ylabel(\"R2_Score\")"
   ]
  },
  {
   "cell_type": "code",
   "execution_count": 29,
   "metadata": {},
   "outputs": [
    {
     "data": {
      "text/plain": [
       "Text(0, 0.5, 'R2_Score')"
      ]
     },
     "execution_count": 29,
     "metadata": {},
     "output_type": "execute_result"
    },
    {
     "data": {
      "image/png": "[encoded data removed]",
      "text/plain": [
       "<Figure size 432x288 with 1 Axes>"
      ]
     },
     "metadata": {},
     "output_type": "display_data"
    }
   ],
   "source": [
    "## LABELENCODING -> run again\n",
    "models_3 = [RandomForestRegressor()]\n",
    "scores_3 = evaluateModels(models_3,targets,X_5,y_5)\n",
    "sns.boxplot(x=\"variable\", y=\"value\", data=pd.melt(scores_3))\n",
    "plt.xlabel(\"Model\")\n",
    "plt.ylabel(\"R2_Score\")"
   ]
  },
  {
   "cell_type": "code",
   "execution_count": 28,
   "metadata": {},
   "outputs": [
    {
     "data": {
      "text/plain": [
       "Text(0, 0.5, 'R2_Score')"
      ]
     },
     "execution_count": 28,
     "metadata": {},
     "output_type": "execute_result"
    },
    {
     "data": {
      "image/png": "[encoded data removed]",
      "text/plain": [
       "<Figure size 432x288 with 1 Axes>"
      ]
     },
     "metadata": {},
     "output_type": "display_data"
    }
   ],
   "source": [
    "## LABEL-ENCODING + MIN MAX SCALING \n",
    "models_3 = [RandomForestRegressor()]\n",
    "scores_3 = evaluateModels(models_3,targets,X_6,y_6)\n",
    "sns.boxplot(x=\"variable\", y=\"value\", data=pd.melt(scores_3))\n",
    "plt.xlabel(\"Model\")\n",
    "plt.ylabel(\"R2_Score\")"
   ]
  },
  {
   "cell_type": "code",
   "execution_count": 34,
   "metadata": {},
   "outputs": [
    {
     "data": {
      "text/plain": [
       "Text(0, 0.5, 'R2_Score')"
      ]
     },
     "execution_count": 34,
     "metadata": {},
     "output_type": "execute_result"
    },
    {
     "data": {
      "image/png": "[encoded data removed]",
      "text/plain": [
       "<Figure size 432x288 with 1 Axes>"
      ]
     },
     "metadata": {},
     "output_type": "display_data"
    }
   ],
   "source": [
    "## LABEL-ENCODING + MIN MAX SCALING  (-1,1)\n",
    "models_3 = [RandomForestRegressor()]\n",
    "scores_3 = evaluateModels(models_3,targets,X_7,y_7)\n",
    "sns.boxplot(x=\"variable\", y=\"value\", data=pd.melt(scores_3))\n",
    "plt.xlabel(\"Model\")\n",
    "plt.ylabel(\"R2_Score\")"
   ]
  },
  {
   "cell_type": "markdown",
   "metadata": {},
   "source": [
    "## Hyperparameter tuning\n",
    "In order to improve the performances of the selected models we used the GridSearchCV that performs a Cross Validation over all the combinations of a given set of hyperparameters. Since we had enough data, we used the hold out technique, so we considered 80% for the train data and the remaining 20% for the testing the models. \n",
    "\n",
    "## Results\n",
    "The results of the hyperparameters tuning can be seen in Table ##. Apparently they all outperformed their naive solutions and \\[brodo\\] "
   ]
  },
  {
   "cell_type": "code",
   "execution_count": 167,
   "metadata": {},
   "outputs": [],
   "source": [
    "def doGridSearch(model,model_name,hyperparams,X,y):\n",
    "    gs = GridSearchCV(estimator=model,  \n",
    "                         param_grid=hyperparams,\n",
    "                         scoring='r2',\n",
    "                         cv=3,\n",
    "                         n_jobs=4,\n",
    "                         verbose=True)\n",
    "\n",
    "    gs.fit(X, y)\n",
    "    return gs"
   ]
  },
  {
   "cell_type": "code",
   "execution_count": 168,
   "metadata": {},
   "outputs": [],
   "source": [
    "hyperparams_RF = {\n",
    "    \"n_estimators\": [300,500,700],\n",
    "    #\"criterion\": [\"mse\", \"mae\"],\n",
    "    \"max_features\": [\"auto\", \"sqrt\", \"log2\"],\n",
    "    \"random_state\": [42],# always use the samet random seed\n",
    "    \"n_jobs\": [4],# for parallelization\n",
    "}"
   ]
  },
  {
   "cell_type": "code",
   "execution_count": 9,
   "metadata": {},
   "outputs": [
    {
     "name": "stdout",
     "output_type": "stream",
     "text": [
      "Fitting 3 folds for each of 9 candidates, totalling 27 fits\n"
     ]
    },
    {
     "name": "stderr",
     "output_type": "stream",
     "text": [
      "[Parallel(n_jobs=4)]: Using backend LokyBackend with 4 concurrent workers.\n",
      "[Parallel(n_jobs=4)]: Done  27 out of  27 | elapsed: 23.7min finished\n",
      "[Parallel(n_jobs=4)]: Using backend ThreadingBackend with 4 concurrent workers.\n",
      "[Parallel(n_jobs=4)]: Done  42 tasks      | elapsed:   12.6s\n",
      "[Parallel(n_jobs=4)]: Done 192 tasks      | elapsed:   52.4s\n",
      "[Parallel(n_jobs=4)]: Done 442 tasks      | elapsed:  1.9min\n",
      "[Parallel(n_jobs=4)]: Done 700 out of 700 | elapsed:  3.0min finished\n"
     ]
    }
   ],
   "source": [
    "gs = doGridSearch(RandomForestRegressor(verbose=True), \"RandomForestRegressor\",hyperparams_RF,X,y)"
   ]
  },
  {
   "cell_type": "code",
   "execution_count": 10,
   "metadata": {},
   "outputs": [
    {
     "name": "stdout",
     "output_type": "stream",
     "text": [
      "Best params:\t{'max_features': 'log2', 'n_estimators': 700, 'n_jobs': 4, 'random_state': 42}\n",
      "Best score:\t0.7499361908991263\n"
     ]
    }
   ],
   "source": [
    "print(f\"Best params:\\t{gs.best_params_}\")\n",
    "print(f\"Best score:\\t{gs.best_score_}\")"
   ]
  },
  {
   "cell_type": "code",
   "execution_count": 22,
   "metadata": {},
   "outputs": [
    {
     "name": "stdout",
     "output_type": "stream",
     "text": [
      "Fitting 3 folds for each of 9 candidates, totalling 27 fits\n"
     ]
    },
    {
     "name": "stderr",
     "output_type": "stream",
     "text": [
      "[Parallel(n_jobs=4)]: Using backend LokyBackend with 4 concurrent workers.\n",
      "[Parallel(n_jobs=4)]: Done  27 out of  27 | elapsed: 57.3min finished\n",
      "[Parallel(n_jobs=4)]: Using backend ThreadingBackend with 4 concurrent workers.\n",
      "[Parallel(n_jobs=4)]: Done  42 tasks      | elapsed:  1.5min\n",
      "[Parallel(n_jobs=4)]: Done 192 tasks      | elapsed:  6.6min\n",
      "[Parallel(n_jobs=4)]: Done 442 tasks      | elapsed: 15.0min\n"
     ]
    },
    {
     "name": "stdout",
     "output_type": "stream",
     "text": [
      "Best params:\t{'max_features': 'auto', 'n_estimators': 700, 'n_jobs': 4, 'random_state': 42}\n",
      "Best score:\t0.7660240919092723\n"
     ]
    },
    {
     "name": "stderr",
     "output_type": "stream",
     "text": [
      "[Parallel(n_jobs=4)]: Done 700 out of 700 | elapsed: 23.5min finished\n"
     ]
    }
   ],
   "source": [
    "gs_3 = doGridSearch(RandomForestRegressor(verbose=True), \"RandomForestRegressor\",hyperparams_RF,X_3,y_3)\n",
    "print(f\"Best params:\\t{gs_3.best_params_}\")\n",
    "print(f\"Best score:\\t{gs_3.best_score_}\")"
   ]
  },
  {
   "cell_type": "code",
   "execution_count": 21,
   "metadata": {},
   "outputs": [
    {
     "name": "stdout",
     "output_type": "stream",
     "text": [
      "Best params:\t{'max_features': 'sqrt', 'n_estimators': 700, 'n_jobs': 4, 'random_state': 42}\n",
      "Best score:\t0.7707074468782672\n"
     ]
    }
   ],
   "source": [
    "## RUN\n",
    "gs_4 = doGridSearch(RandomForestRegressor(verbose=True), \"RandomForestRegressor\",hyperparams_RF,X_4,y_4)\n",
    "## ALREADY DONE -> CIRCA 30MIN\n",
    "print(f\"Best params:\\t{gs_4.best_params_}\")\n",
    "print(f\"Best score:\\t{gs_4.best_score_}\")"
   ]
  },
  {
   "cell_type": "code",
   "execution_count": 169,
   "metadata": {},
   "outputs": [
    {
     "name": "stdout",
     "output_type": "stream",
     "text": [
      "Fitting 3 folds for each of 9 candidates, totalling 27 fits\n"
     ]
    },
    {
     "name": "stderr",
     "output_type": "stream",
     "text": [
      "[Parallel(n_jobs=4)]: Using backend LokyBackend with 4 concurrent workers.\n",
      "[Parallel(n_jobs=4)]: Done  27 out of  27 | elapsed: 21.4min finished\n",
      "[Parallel(n_jobs=4)]: Using backend ThreadingBackend with 4 concurrent workers.\n",
      "[Parallel(n_jobs=4)]: Done  42 tasks      | elapsed:   11.5s\n",
      "[Parallel(n_jobs=4)]: Done 192 tasks      | elapsed:   49.1s\n",
      "[Parallel(n_jobs=4)]: Done 442 tasks      | elapsed:  1.9min\n"
     ]
    },
    {
     "name": "stdout",
     "output_type": "stream",
     "text": [
      "Best params:\t{'max_features': 'sqrt', 'n_estimators': 700, 'n_jobs': 4, 'random_state': 42}\n",
      "Best score:\t0.7584820590787764\n"
     ]
    },
    {
     "name": "stderr",
     "output_type": "stream",
     "text": [
      "[Parallel(n_jobs=4)]: Done 700 out of 700 | elapsed:  2.9min finished\n"
     ]
    }
   ],
   "source": [
    "## RUN\n",
    "gs_final = doGridSearch(RandomForestRegressor(verbose=True), \"RandomForestRegressor\",hyperparams_RF,X_final,y_final)\n",
    "print(f\"Best params:\\t{gs_final.best_params_}\")\n",
    "print(f\"Best score:\\t{gs_final.best_score_}\")"
   ]
  },
  {
   "cell_type": "markdown",
   "metadata": {},
   "source": [
    "## Deploy"
   ]
  },
  {
   "cell_type": "code",
   "execution_count": null,
   "metadata": {},
   "outputs": [],
   "source": [
    "## LABEL ENCODER + STANDARD SCALER\n",
    "rf_deploy = RandomForestRegressor(max_features='sqrt', n_estimators=700)\n",
    "rf_deploy.fit(X_4,y_4)\n",
    "y_pred = rf_deploy.predict(X_eval_prep_4)"
   ]
  },
  {
   "cell_type": "code",
   "execution_count": null,
   "metadata": {},
   "outputs": [],
   "source": [
    "def get_csv(ids, y):\n",
    "    pd.DataFrame(dict(Id = ids,Predicted = y)).to_csv(\"submission9.csv\",sep=\",\",index=False)"
   ]
  },
  {
   "cell_type": "code",
   "execution_count": null,
   "metadata": {},
   "outputs": [],
   "source": [
    "get_csv(list(X_eval.index),y_pred)"
   ]
  },
  {
   "cell_type": "markdown",
   "metadata": {},
   "source": [
    "## Deploy history\n",
    "\n",
    "### Submission 1 : 0.756 | 2021-01-11 16:24:05.639162 \t\n",
    "* Preprocessing: hash <br />\n",
    "* Model : Random Forest <br />\n",
    "* Hyperparams: {'max_features': 'sqrt', 'n_estimators': 500, 'n_jobs': -1, 'random_state': 42} <br />\n",
    "* features : country,province,region_1, variety, winery, length_description <br />\n",
    "\n",
    "### Submission 2 : 0.807 | 2021-01-12 08:14:14.977122\t\n",
    "* Preprocessing: hash <br />\n",
    "* Model : Random Forest <br />\n",
    "* Hyperparams: {'max_features': 'auto', 'n_estimators': 500, 'n_jobs': -1, 'random_state': 42}\n",
    "* features : country,province,region_1, variety, winery, designation <br />\n",
    "\n",
    "### Submission 3 : 0.822 | 2021-01-12 08:56:40.440284\n",
    "* Preprocessing: BinaryEncoding <br />\n",
    "* Model : Random Forest <br />\n",
    "* Hyperparams: {'max_features': 'auto', 'n_estimators': 500, 'n_jobs': -1, 'random_state': 42}\n",
    "* features : country,province,region_1, variety, winery, designation <br />\n",
    "\n",
    "\n",
    "--- \n",
    "\n",
    "### Submission 7 : 0.827 | 2021-01-13 12:22:29.664395\n",
    "* Preprocessing: LabelEncoder + Scaler <br />\n",
    "* Model : Random Forest <br />\n",
    "* Hyperparams: {'max_features': 'auto', 'n_estimators': 500, 'n_jobs': -1, 'random_state': 42}\n",
    "* features : country,province,region_1, variety, winery, designation <br />\n",
    "\n",
    "### Submission 8 : 0.827 | 2021-01-13 12:22:29.664395\n",
    "* with duplicates\n",
    "* Preprocessing: LabelEncoder + Scaler <br />\n",
    "* Model : Random Forest <br />\n",
    "* Hyperparams: {'max_features': 'sqrt', 'n_estimators': 700, 'n_jobs': 4, 'random_state': 42}\n",
    "* features : country,province,region_1, variety, winery, designation <br />\n",
    "\n",
    "### Submission 9 :  | \n",
    "* with duplicates\n",
    "* Preprocessing: LabelEncoder + Scaler <br /> [v4!!!]\n",
    "* Model : Random Forest <br />\n",
    "* Hyperparams: {'max_features': 'sqrt', 'n_estimators': 700, 'n_jobs': 4, 'random_state': 42}\n",
    "* features : country,province,region_1, variety, winery, designation <br />"
   ]
  },
  {
   "cell_type": "markdown",
   "metadata": {},
   "source": [
    "## //Test"
   ]
  }
 ],
 "metadata": {
  "kernelspec": {
   "display_name": "Python 3",
   "language": "python",
   "name": "python3"
  },
  "language_info": {
   "codemirror_mode": {
    "name": "ipython",
    "version": 3
   },
   "file_extension": ".py",
   "mimetype": "text/x-python",
   "name": "python",
   "nbconvert_exporter": "python",
   "pygments_lexer": "ipython3",
   "version": "3.8.3"
  }
 },
 "nbformat": 4,
 "nbformat_minor": 4
}
