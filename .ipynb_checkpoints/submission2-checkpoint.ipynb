{
 "cells": [
  {
   "cell_type": "code",
   "execution_count": 1,
   "metadata": {},
   "outputs": [],
   "source": [
    "import matplotlib.pyplot as plt\n",
    "import seaborn as sns\n",
    "sns.set_style(\"whitegrid\")\n",
    "\n",
    "import pandas as pd\n",
    "import numpy as np\n",
    "\n",
    "from sklearn import datasets\n",
    "\n",
    "from sklearn.ensemble import RandomForestRegressor\n",
    "from sklearn.linear_model import LinearRegression, SGDRegressor\n",
    "\n",
    "from sklearn.model_selection import RepeatedKFold\n",
    "from sklearn.model_selection import cross_val_score\n",
    "from sklearn.model_selection import GridSearchCV\n",
    "\n",
    "from sklearn.metrics import accuracy_score, precision_score, recall_score\n",
    "from prettytable import PrettyTable\n",
    "\n",
    "from sklearn.preprocessing import OrdinalEncoder"
   ]
  },
  {
   "cell_type": "code",
   "execution_count": 15,
   "metadata": {},
   "outputs": [],
   "source": [
    "def loadData(directory):\n",
    "    df = pd.read_csv(directory,sep=\"\\t\")\n",
    "    return df\n",
    "\n",
    "X_dev = loadData('Dataset/dev.tsv')\n",
    "X_eval = loadData('Dataset/eval.tsv')\n",
    "\n",
    "X_dev['length_description'] = X_dev['description'].apply(lambda x : len(x))\n",
    "X_dev = X_dev.drop_duplicates()\n",
    "X_eval['length_description'] = X_eval['description'].apply(lambda x : len(x))"
   ]
  },
  {
   "cell_type": "code",
   "execution_count": 3,
   "metadata": {},
   "outputs": [
    {
     "data": {
      "text/plain": [
       "country                   3\n",
       "description               0\n",
       "designation           25944\n",
       "province                  3\n",
       "region_1              13889\n",
       "region_2              50734\n",
       "variety                   0\n",
       "winery                    0\n",
       "quality                   0\n",
       "length_description        0\n",
       "dtype: int64"
      ]
     },
     "execution_count": 3,
     "metadata": {},
     "output_type": "execute_result"
    }
   ],
   "source": [
    "X_dev.isnull().sum()"
   ]
  },
  {
   "cell_type": "code",
   "execution_count": 16,
   "metadata": {},
   "outputs": [
    {
     "data": {
      "text/plain": [
       "country                   0\n",
       "description               0\n",
       "designation            9217\n",
       "province                  0\n",
       "region_1               5052\n",
       "region_2              17969\n",
       "variety                   0\n",
       "winery                    0\n",
       "length_description        0\n",
       "dtype: int64"
      ]
     },
     "execution_count": 16,
     "metadata": {},
     "output_type": "execute_result"
    }
   ],
   "source": [
    "X_eval.isnull().sum()"
   ]
  },
  {
   "cell_type": "code",
   "execution_count": 4,
   "metadata": {},
   "outputs": [
    {
     "data": {
      "text/plain": [
       "'\\n    * Hashing\\n    * Replace each value with its count -> Take care about the same value in the eval\\n    * map just a subset of elements (by selecting a treshold)\\n\\n'"
      ]
     },
     "execution_count": 4,
     "metadata": {},
     "output_type": "execute_result"
    }
   ],
   "source": [
    "### TRY THESE TWO ENCODING WAYS\n",
    "\n",
    "\"\"\"\n",
    "    * Hashing\n",
    "    * Replace each value with its count -> Take care about the same value in the eval\n",
    "    * map just a subset of elements (by selecting a treshold)\n",
    "\n",
    "\"\"\""
   ]
  },
  {
   "cell_type": "code",
   "execution_count": 5,
   "metadata": {},
   "outputs": [],
   "source": [
    "X_prep = X_dev.drop(columns=['description','designation','region_2'])"
   ]
  },
  {
   "cell_type": "code",
   "execution_count": 6,
   "metadata": {},
   "outputs": [],
   "source": [
    "def doPreprocV2(X,labels):\n",
    "    X = X.fillna(\"default\")\n",
    "    for label in labels:\n",
    "        X[label] = X.apply(lambda x : hash(x[label]),axis=1)\n",
    "\n",
    "    return X"
   ]
  },
  {
   "cell_type": "code",
   "execution_count": 7,
   "metadata": {},
   "outputs": [
    {
     "data": {
      "text/plain": [
       "country                   3\n",
       "province                  3\n",
       "region_1              13889\n",
       "variety                   0\n",
       "winery                    0\n",
       "quality                   0\n",
       "length_description        0\n",
       "dtype: int64"
      ]
     },
     "execution_count": 7,
     "metadata": {},
     "output_type": "execute_result"
    }
   ],
   "source": [
    "X_prep.isnull().sum()"
   ]
  },
  {
   "cell_type": "code",
   "execution_count": 8,
   "metadata": {},
   "outputs": [],
   "source": [
    "X_prep_v2 = doPreprocV2(X_prep,['country','province','variety','winery','region_1'])\n",
    "y2 = X_prep_v2.quality\n",
    "X2 = X_prep_v2.drop(columns=['quality'])"
   ]
  },
  {
   "cell_type": "code",
   "execution_count": 25,
   "metadata": {},
   "outputs": [],
   "source": [
    "X_eval = X_eval.drop(columns=['description','designation','region_2'])\n",
    "X_final_eval = doPreprocV2(X_eval,['country','province','variety','winery','region_1'])"
   ]
  },
  {
   "cell_type": "markdown",
   "metadata": {},
   "source": [
    "### Preprocessing"
   ]
  },
  {
   "cell_type": "code",
   "execution_count": 3,
   "metadata": {},
   "outputs": [],
   "source": [
    "# encode with average"
   ]
  },
  {
   "cell_type": "markdown",
   "metadata": {},
   "source": [
    "## Model selection\n",
    "\\# -- specificare la misura di riferimento (accuracy o altro) <br /><br />\n",
    "In order to tune the best models, we tested #tot different classifiers with their default hyperparameters through the Repeated K-Fold Cross Validation. This gives a more “robust” model assessment score rather than the fairly well known K-Fold Cross Validation, because it run several times. In this case we used 5 folds and 10 ierations. The algorithms that we tested are: \n",
    "- **\n",
    "- **\n",
    "\n",
    "The output of the the Cross Validation phase can be clearly seen in Figure # . So we decided to tune the \\\\ and the \\\\ classifiers trough the Grid Search, as explained in the next section. "
   ]
  },
  {
   "cell_type": "code",
   "execution_count": 9,
   "metadata": {},
   "outputs": [],
   "source": [
    "from sklearn.preprocessing import PolynomialFeatures\n",
    "from sklearn.pipeline import make_pipeline\n",
    "\n",
    "randomforest = RandomForestRegressor()\n",
    "linearregression = LinearRegression()\n",
    "sgd = SGDRegressor()\n",
    "\n",
    "#polynomialregression = make_pipeline(PolynomialFeatures(10), LinearRegression())\n",
    "#polynomialregression.fit(X, y)\n",
    "\n",
    "\n",
    "models = [randomforest]\n",
    "targets = [\"RandomForest\"]"
   ]
  },
  {
   "cell_type": "code",
   "execution_count": 10,
   "metadata": {},
   "outputs": [],
   "source": [
    "def evaluateModels(models, targets,X,y):\n",
    "    \n",
    "    scores = pd.DataFrame()\n",
    "    \n",
    "    for model,target in zip(models,targets):\n",
    "        cv = RepeatedKFold(n_splits=10, n_repeats=2, random_state=42)\n",
    "        scores[target] = cross_val_score(model, X, y, scoring='r2', cv=cv, n_jobs=-1)\n",
    "        \n",
    "    return scores"
   ]
  },
  {
   "cell_type": "code",
   "execution_count": 34,
   "metadata": {},
   "outputs": [
    {
     "data": {
      "text/plain": [
       "Text(0, 0.5, 'R2_Score')"
      ]
     },
     "execution_count": 34,
     "metadata": {},
     "output_type": "execute_result"
    },
    {
     "data": {
      "image/png": "[encoded data removed]",
      "text/plain": [
       "<Figure size 432x288 with 1 Axes>"
      ]
     },
     "metadata": {},
     "output_type": "display_data"
    }
   ],
   "source": [
    "## V2\n",
    "scores = evaluateModels(models,targets,X2,y2)\n",
    "sns.boxplot(x=\"variable\", y=\"value\", data=pd.melt(scores))\n",
    "plt.xlabel(\"Model\")\n",
    "plt.ylabel(\"R2_Score\")"
   ]
  },
  {
   "cell_type": "markdown",
   "metadata": {},
   "source": [
    "## Hyperparameter tuning\n",
    "In order to improve the performances of the selected models we used the GridSearchCV that performs a Cross Validation over all the combinations of a given set of hyperparameters. Since we had enough data, we used the hold out technique, so we considered 80% for the train data and the remaining 20% for the testing the models. \n",
    "\n",
    "## Results\n",
    "The results of the hyperparameters tuning can be seen in Table ##. Apparently they all outperformed their naive solutions and \\[brodo\\] "
   ]
  },
  {
   "cell_type": "code",
   "execution_count": 11,
   "metadata": {},
   "outputs": [],
   "source": [
    "def doGridSearch(model,model_name,hyperparams,X,y):\n",
    "    gs = GridSearchCV(estimator=model,  \n",
    "                         param_grid=hyperparams,\n",
    "                         scoring='r2',\n",
    "                         cv=4,\n",
    "                         n_jobs=-1,\n",
    "                         verbose=True)\n",
    "\n",
    "    gs.fit(X, y)\n",
    "    return gs"
   ]
  },
  {
   "cell_type": "code",
   "execution_count": 19,
   "metadata": {},
   "outputs": [],
   "source": [
    "hyperparams_RF = {\n",
    "    \"n_estimators\": [500],\n",
    "    #\"criterion\": [\"mse\", \"mae\"],\n",
    "    \"max_features\": [\"auto\", \"sqrt\", \"log2\"],\n",
    "    \"random_state\": [42],# always use the samet random seed\n",
    "    \"n_jobs\": [-1],# for parallelization\n",
    "}"
   ]
  },
  {
   "cell_type": "code",
   "execution_count": 21,
   "metadata": {},
   "outputs": [
    {
     "name": "stdout",
     "output_type": "stream",
     "text": [
      "Fitting 4 folds for each of 3 candidates, totalling 12 fits\n"
     ]
    },
    {
     "name": "stderr",
     "output_type": "stream",
     "text": [
      "[Parallel(n_jobs=-1)]: Using backend LokyBackend with 8 concurrent workers.\n",
      "[Parallel(n_jobs=-1)]: Done  10 out of  12 | elapsed:  3.1min remaining:   37.6s\n",
      "[Parallel(n_jobs=-1)]: Done  12 out of  12 | elapsed:  3.2min finished\n"
     ]
    }
   ],
   "source": [
    "gs = doGridSearch(RandomForestRegressor(), \"RandomForestRegressor\",hyperparams_RF,X2,y2)"
   ]
  },
  {
   "cell_type": "code",
   "execution_count": 22,
   "metadata": {},
   "outputs": [
    {
     "name": "stdout",
     "output_type": "stream",
     "text": [
      "Best params:\t{'max_features': 'sqrt', 'n_estimators': 500, 'n_jobs': -1, 'random_state': 42}\n",
      "Best score:\t0.531075591820998\n"
     ]
    }
   ],
   "source": [
    "print(f\"Best params:\\t{gs.best_params_}\")\n",
    "print(f\"Best score:\\t{gs.best_score_}\")"
   ]
  },
  {
   "cell_type": "code",
   "execution_count": null,
   "metadata": {},
   "outputs": [],
   "source": [
    "y_pred = gs.predict(X_final_eval)"
   ]
  },
  {
   "cell_type": "markdown",
   "metadata": {},
   "source": [
    "## Deploy"
   ]
  },
  {
   "cell_type": "code",
   "execution_count": 26,
   "metadata": {},
   "outputs": [],
   "source": [
    "y_pred = gs.predict(X_final_eval)"
   ]
  },
  {
   "cell_type": "code",
   "execution_count": 28,
   "metadata": {},
   "outputs": [],
   "source": [
    "def get_csv(ids, y):\n",
    "    pd.DataFrame(dict(Id = ids,Predicted = y)).to_csv(\"submission1.csv\",sep=\",\",index=False)"
   ]
  },
  {
   "cell_type": "code",
   "execution_count": 32,
   "metadata": {},
   "outputs": [],
   "source": [
    "get_csv(list(X_eval.index),y_pred)"
   ]
  },
  {
   "cell_type": "markdown",
   "metadata": {},
   "source": [
    "## Deploy history\n",
    "\n",
    "### Submission 1 : 0.756 | 2021-01-11 16:24:05.639162 \t\n",
    "* Preprocessing: hash <br />\n",
    "* Model : Random Forest <br />\n",
    "* Hyperparams: {'max_features': 'sqrt', 'n_estimators': 500, 'n_jobs': -1, 'random_state': 42} <br />\n",
    "* features : country,province,region_1, variety, winery, length_description <br />"
   ]
  },
  {
   "cell_type": "markdown",
   "metadata": {},
   "source": [
    "## //Test"
   ]
  }
 ],
 "metadata": {
  "kernelspec": {
   "display_name": "Python 3",
   "language": "python",
   "name": "python3"
  },
  "language_info": {
   "codemirror_mode": {
    "name": "ipython",
    "version": 3
   },
   "file_extension": ".py",
   "mimetype": "text/x-python",
   "name": "python",
   "nbconvert_exporter": "python",
   "pygments_lexer": "ipython3",
   "version": "3.8.3"
  }
 },
 "nbformat": 4,
 "nbformat_minor": 4
}
