{
 "cells": [
  {
   "cell_type": "code",
   "execution_count": 1,
   "metadata": {},
   "outputs": [],
   "source": [
    "from textblob import TextBlob\n",
    "import matplotlib.pyplot as plt\n",
    "import seaborn as sns\n",
    "sns.set_style(\"whitegrid\")\n",
    "\n",
    "import pandas as pd\n",
    "import numpy as np\n",
    "\n",
    "from sklearn import datasets\n",
    "\n",
    "from sklearn.ensemble import RandomForestRegressor\n",
    "from sklearn.linear_model import LinearRegression, SGDRegressor\n",
    "\n",
    "from sklearn.model_selection import RepeatedKFold\n",
    "from sklearn.model_selection import cross_val_score\n",
    "from sklearn.model_selection import GridSearchCV\n",
    "\n",
    "from sklearn.metrics import accuracy_score, precision_score, recall_score\n",
    "from prettytable import PrettyTable\n",
    "\n",
    "from sklearn.preprocessing import OrdinalEncoder, OneHotEncoder\n",
    "from sklearn.decomposition import PCA\n",
    "from sklearn.impute import SimpleImputer \n",
    "import category_encoders\n",
    "\n",
    "from sklearn.preprocessing import OrdinalEncoder, QuantileTransformer, OneHotEncoder, LabelEncoder, RobustScaler, StandardScaler,MinMaxScaler\n",
    "import category_encoders\n",
    "from vaderSentiment.vaderSentiment import SentimentIntensityAnalyzer\n",
    "from sklearn.metrics import r2_score"
   ]
  },
  {
   "cell_type": "code",
   "execution_count": 11,
   "metadata": {},
   "outputs": [],
   "source": [
    "def loadData(directory):\n",
    "    df = pd.read_csv(directory,sep=\"\\t\")\n",
    "    return df\n",
    "\n",
    "def evaluateModels(models, targets,X,y):\n",
    "    \n",
    "    scores = pd.DataFrame()\n",
    "    \n",
    "    for model,target in zip(models,targets):\n",
    "        cv = RepeatedKFold(n_splits=3, n_repeats=1, random_state=42)\n",
    "        scores[target] = cross_val_score(model, X, y, scoring='r2', cv=cv, n_jobs=-1)\n",
    "        \n",
    "    return scores\n",
    "\n",
    "def doPreproc(X_d,X_e,labels):\n",
    "        \n",
    "    df = pd.concat([X_d,X_e])\n",
    "\n",
    "    encoder = category_encoders.BinaryEncoder(cols=labels)\n",
    "    df = encoder.fit_transform(df)\n",
    "    \n",
    "    ev = df[df['quality'].isna()].drop(columns=['quality'])\n",
    "    dev = df.dropna(subset=['quality'])\n",
    "\n",
    "    return dev, ev\n",
    "\n",
    "def doPreprocV2(X_d,X_e,labels,thresholds):\n",
    "        \n",
    "    df = pd.concat([X_d,X_e])\n",
    "    \n",
    "    for label,thresh in zip(labels,thresholds): \n",
    "        \n",
    "        top = df[label].isin(df[label].value_counts().index[:thresh])\n",
    "        df.loc[~top, label] = \"other\"\n",
    "        \n",
    "        encoder = LabelEncoder()\n",
    "        scaler = StandardScaler()\n",
    "        \n",
    "    \n",
    "    df = pd.get_dummies(df, drop_first=True)\n",
    "\n",
    "    ev = df[df['quality'].isna()].drop(columns=['quality'])\n",
    "    dev = df.dropna(subset=['quality'])\n",
    "\n",
    "    return dev, ev\n",
    "\n",
    "def doPreprocV3(X_d,X_e,labels,thresholds):\n",
    "        \n",
    "    df = pd.concat([X_d,X_e])\n",
    "    \n",
    "    for label,thresh in zip(labels,thresholds): \n",
    "        \n",
    "        top = df[label].isin(df[label].value_counts().index[:thresh])\n",
    "        df.loc[~top, label] = \"other\"\n",
    "        \n",
    "    encoder = category_encoders.BinaryEncoder(cols=labels)\n",
    "    df = encoder.fit_transform(df)\n",
    "\n",
    "    ev = df[df['quality'].isna()].drop(columns=['quality'])\n",
    "    dev = df.dropna(subset=['quality'])\n",
    "\n",
    "    return dev, ev"
   ]
  },
  {
   "cell_type": "code",
   "execution_count": 34,
   "metadata": {},
   "outputs": [],
   "source": [
    "X_dev = loadData('Dataset/dev.tsv')\n",
    "X_eval = loadData('Dataset/eval.tsv')\n",
    "\n",
    "X_dev = X_dev.drop(columns=['region_2','description'])\n",
    "X_eval = X_eval.drop(columns=['region_2','description'])\n",
    "\n",
    "X_dev_prep, X_eval_prep = doPreprocV3(X_dev,X_eval,['variety','country','region_1','province',\n",
    "                                                    'designation','winery'],\n",
    "                                                   [30,40,50,100,40,60])\n",
    "y = X_dev_prep.quality\n",
    "X = X_dev_prep.drop(columns=['quality'])"
   ]
  },
  {
   "cell_type": "code",
   "execution_count": 25,
   "metadata": {},
   "outputs": [
    {
     "data": {
      "text/plain": [
       "(120744, 40)"
      ]
     },
     "execution_count": 25,
     "metadata": {},
     "output_type": "execute_result"
    }
   ],
   "source": [
    "X.shape"
   ]
  },
  {
   "cell_type": "code",
   "execution_count": 41,
   "metadata": {},
   "outputs": [],
   "source": [
    "pca = PCA(n_components=0.95)\n",
    "X_V2 = pca.fit_transform(X)"
   ]
  },
  {
   "cell_type": "code",
   "execution_count": 42,
   "metadata": {},
   "outputs": [
    {
     "data": {
      "text/plain": [
       "(120744, 23)"
      ]
     },
     "execution_count": 42,
     "metadata": {},
     "output_type": "execute_result"
    }
   ],
   "source": [
    "X_V2.shape"
   ]
  },
  {
   "cell_type": "code",
   "execution_count": 43,
   "metadata": {},
   "outputs": [
    {
     "data": {
      "text/plain": [
       "array([[ 0.72392558, -0.45468183,  0.2198115 , ...,  0.17056831,\n",
       "         0.02207603, -0.1396407 ],\n",
       "       [-1.13620059,  0.06399839, -0.06540396, ..., -0.18623523,\n",
       "         0.2544958 , -0.25444702],\n",
       "       [-0.44279836, -0.45328271,  0.60133043, ..., -0.31538068,\n",
       "        -0.06934249,  0.08781431],\n",
       "       ...,\n",
       "       [ 0.22065025,  0.129511  , -1.14194356, ..., -0.29023169,\n",
       "        -0.05465069, -0.03748384],\n",
       "       [ 0.94920205,  0.42773656, -0.88159872, ..., -0.44785671,\n",
       "         0.33302075,  0.27866029],\n",
       "       [ 0.46667646, -1.11508729, -0.12199742, ..., -0.0491215 ,\n",
       "        -0.01174643, -0.03897465]])"
      ]
     },
     "execution_count": 43,
     "metadata": {},
     "output_type": "execute_result"
    }
   ],
   "source": [
    "X_V2"
   ]
  },
  {
   "cell_type": "code",
   "execution_count": 44,
   "metadata": {},
   "outputs": [
    {
     "data": {
      "text/plain": [
       "Text(0, 0.5, 'R2_Score')"
      ]
     },
     "execution_count": 44,
     "metadata": {},
     "output_type": "execute_result"
    },
    {
     "data": {
      "image/png": "[encoded data removed]",
      "text/plain": [
       "<Figure size 432x288 with 1 Axes>"
      ]
     },
     "metadata": {},
     "output_type": "display_data"
    }
   ],
   "source": [
    "from sklearn.linear_model import SGDRegressor\n",
    "\n",
    "models = [SGDRegressor()]\n",
    "targets = [\"RandomForest\"]\n",
    "\n",
    "scores = evaluateModels(models,targets,X_V2,y)\n",
    "sns.boxplot(x=\"variable\", y=\"value\", data=pd.melt(scores))\n",
    "plt.xlabel(\"Model\")\n",
    "plt.ylabel(\"R2_Score\")"
   ]
  },
  {
   "cell_type": "code",
   "execution_count": null,
   "metadata": {},
   "outputs": [],
   "source": [
    "models = [RandomForestRegressor()]\n",
    "targets = [\"RandomForest\"]\n",
    "\n",
    "scores = evaluateModels(models,targets,X_V2,y)\n",
    "sns.boxplot(x=\"variable\", y=\"value\", data=pd.melt(scores))\n",
    "plt.xlabel(\"Model\")\n",
    "plt.ylabel(\"R2_Score\")"
   ]
  },
  {
   "cell_type": "code",
   "execution_count": 21,
   "metadata": {},
   "outputs": [
    {
     "data": {
      "text/plain": [
       "Text(0, 0.5, 'R2_Score')"
      ]
     },
     "execution_count": 21,
     "metadata": {},
     "output_type": "execute_result"
    },
    {
     "data": {
      "image/png": "[encoded data removed]",
      "text/plain": [
       "<Figure size 432x288 with 1 Axes>"
      ]
     },
     "metadata": {},
     "output_type": "display_data"
    }
   ],
   "source": [
    "from sklearn.svm import SVR\n",
    "\n",
    "models = [SVR()]\n",
    "targets = [\"RandomForest\"]\n",
    "\n",
    "scores = evaluateModels(models,targets,X_V2,y)\n",
    "sns.boxplot(x=\"variable\", y=\"value\", data=pd.melt(scores))\n",
    "plt.xlabel(\"Model\")\n",
    "plt.ylabel(\"R2_Score\")"
   ]
  },
  {
   "cell_type": "markdown",
   "metadata": {},
   "source": [
    "## Tuning"
   ]
  },
  {
   "cell_type": "code",
   "execution_count": 26,
   "metadata": {},
   "outputs": [],
   "source": [
    "def doGridSearch(model,model_name,hyperparams,X,y):\n",
    "    gs = GridSearchCV(estimator=model,  \n",
    "                         param_grid=hyperparams,\n",
    "                         scoring='r2',\n",
    "                         cv=3,\n",
    "                         n_jobs=4,\n",
    "                         verbose=True)\n",
    "\n",
    "    gs.fit(X, y)\n",
    "    return gs"
   ]
  },
  {
   "cell_type": "code",
   "execution_count": 27,
   "metadata": {},
   "outputs": [],
   "source": [
    "hyperparams_RF = {\n",
    "    \"n_estimators\": [300,500,700],\n",
    "    \"max_features\": [\"auto\", \"sqrt\", \"log2\"],\n",
    "    \"random_state\": [42],# always use the samet random seed\n",
    "    \"n_jobs\": [4],# for parallelization\n",
    "}"
   ]
  },
  {
   "cell_type": "code",
   "execution_count": 28,
   "metadata": {},
   "outputs": [
    {
     "name": "stdout",
     "output_type": "stream",
     "text": [
      "Fitting 3 folds for each of 9 candidates, totalling 27 fits\n"
     ]
    },
    {
     "name": "stderr",
     "output_type": "stream",
     "text": [
      "[Parallel(n_jobs=4)]: Using backend LokyBackend with 4 concurrent workers.\n",
      "[Parallel(n_jobs=4)]: Done  27 out of  27 | elapsed: 11.0min finished\n",
      "[Parallel(n_jobs=4)]: Using backend ThreadingBackend with 4 concurrent workers.\n",
      "[Parallel(n_jobs=4)]: Done  42 tasks      | elapsed:    5.5s\n",
      "[Parallel(n_jobs=4)]: Done 192 tasks      | elapsed:   23.8s\n",
      "[Parallel(n_jobs=4)]: Done 442 tasks      | elapsed:   52.9s\n",
      "[Parallel(n_jobs=4)]: Done 700 out of 700 | elapsed:  1.4min finished\n"
     ]
    }
   ],
   "source": [
    "gs = doGridSearch(RandomForestRegressor(verbose=True), \"RandomForestRegressor\",hyperparams_RF,X,y)"
   ]
  },
  {
   "cell_type": "code",
   "execution_count": 41,
   "metadata": {},
   "outputs": [
    {
     "data": {
      "text/plain": [
       "0.7656238219768562"
      ]
     },
     "execution_count": 41,
     "metadata": {},
     "output_type": "execute_result"
    }
   ],
   "source": [
    "gs.best_score_"
   ]
  },
  {
   "cell_type": "code",
   "execution_count": null,
   "metadata": {},
   "outputs": [],
   "source": []
  }
 ],
 "metadata": {
  "kernelspec": {
   "display_name": "Python 3",
   "language": "python",
   "name": "python3"
  },
  "language_info": {
   "codemirror_mode": {
    "name": "ipython",
    "version": 3
   },
   "file_extension": ".py",
   "mimetype": "text/x-python",
   "name": "python",
   "nbconvert_exporter": "python",
   "pygments_lexer": "ipython3",
   "version": "3.8.3"
  }
 },
 "nbformat": 4,
 "nbformat_minor": 4
}
